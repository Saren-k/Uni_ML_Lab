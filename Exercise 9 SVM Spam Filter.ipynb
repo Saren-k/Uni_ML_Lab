{
 "cells": [
  {
   "cell_type": "markdown",
   "metadata": {},
   "source": [
    "# Lab Course Machine Learning\n",
    "### Exercise Sheet 9\n",
    "#### Prof. Dr. Dr. Lars Schmidt-Thieme, Hadi Samer Jomaa\n",
    "Information Systems and Machine Learning Lab\n",
    "#### University of Hildesheim\n",
    "January 8th, 2018\n",
    "\n",
    "Submission on January 15th, 2018 at 10:00 am, (on moodle, course code 3113)\n",
    "\n",
    "### Instructions\n",
    "Please read the lab related instructions, i.e. submission, report format and policies, at https://www.ismll.uni-hildesheim.de/lehre/prakAIML-16w/exercises/ml_lab_instructions.pdf\n",
    "\n",
    "Datasets\n",
    "1. Sparse dataset in libsvm format:\n",
    "     - a9a D1 : https://www.csie.ntu.edu.tw/~cjlin/libsvmtools/datasets/\n",
    "2. UCI dataset:\n",
    "    - SMS Spam D2 : https://archive.ics.uci.edu/ml/datasets/SMS+Spam+Collection\n",
    "    - Spambase D3 : https://archive.ics.uci.edu/ml/datasets/Spambase\n",
    "\n",
    "## Exercise 1: A spam filter using SVM(16 Points)\n",
    "\n",
    "### Part A(8 Points)\n",
    "  \n",
    "  #### Objetive\n",
    "  Build a basic spam filter using SVM and a pre-processed dataset. A spam filter classify an email to be Ham or Spam, using the content of an email as features. \n",
    "\n",
    "You have to use dataset D3 for this task, and to use libsvm https://github.com/cjlin1/libsvm/tree/master/python. libsvm accepts data in a libsvm format, and is given as:\n",
    "\n",
    " < label> < index1>:< value1> < index2>:< value2> ...\n",
    "\n",
    " - Convert dataset D3 into a libsvm format. \n",
    "\n",
    "Follow the readme document given on the libsvm link to see how you can use it to solve your problem \n",
    "\n",
    "- Learn a spam classifier on train part of the dataset and evaluate it on test dataset. \n",
    "\n",
    "- Optimize the hyper parameter i.e. value of C. \n",
    "\n",
    "[hint: when choosing the range of hyperparameter its always useful to check a diverse range i.e. C ={1,2,3,4} is not a good range to check for optimal value, you might want to check a broader range going from 0.1 to 100 etc.]. \n",
    "\n",
    "- Present your results in form of graphs and tables, listing details. \n",
    "\n",
    "You have to choose a quality criterion according to the given problem i.e. classification. \n",
    "\n",
    "[Note:] If you are not able to use libsvm you can replace it with scikit learn. But you have to convert your data into libsvm format."
   ]
  },
  {
   "cell_type": "code",
   "execution_count": 1,
   "metadata": {},
   "outputs": [],
   "source": [
    "from sklearn import svm\n",
    "from sklearn.model_selection import train_test_split\n",
    "from sklearn.model_selection import GridSearchCV\n",
    "from sklearn.model_selection import cross_val_score\n",
    "import warnings\n",
    "import matplotlib.pyplot as plt\n",
    "import numpy as np\n",
    "import pandas as pd\n",
    "\n",
    "#Ignore future warnings (appearance when using Cross_val_score)\n",
    "warnings.simplefilter(action='ignore', category=FutureWarning)"
   ]
  },
  {
   "cell_type": "code",
   "execution_count": 2,
   "metadata": {},
   "outputs": [
    {
     "data": {
      "text/html": [
       "<div>\n",
       "<style scoped>\n",
       "    .dataframe tbody tr th:only-of-type {\n",
       "        vertical-align: middle;\n",
       "    }\n",
       "\n",
       "    .dataframe tbody tr th {\n",
       "        vertical-align: top;\n",
       "    }\n",
       "\n",
       "    .dataframe thead th {\n",
       "        text-align: right;\n",
       "    }\n",
       "</style>\n",
       "<table border=\"1\" class=\"dataframe\">\n",
       "  <thead>\n",
       "    <tr style=\"text-align: right;\">\n",
       "      <th></th>\n",
       "      <th>word_freq_make</th>\n",
       "      <th>word_freq_address</th>\n",
       "      <th>word_freq_all</th>\n",
       "      <th>word_freq_3d</th>\n",
       "      <th>word_freq_our</th>\n",
       "      <th>word_freq_over</th>\n",
       "      <th>word_freq_remove</th>\n",
       "      <th>word_freq_internet</th>\n",
       "      <th>word_freq_order</th>\n",
       "      <th>word_freq_mail</th>\n",
       "      <th>...</th>\n",
       "      <th>char_freq_;</th>\n",
       "      <th>char_freq_(</th>\n",
       "      <th>char_freq_[</th>\n",
       "      <th>char_freq_!</th>\n",
       "      <th>char_freq_$</th>\n",
       "      <th>char_freq_#</th>\n",
       "      <th>capital_run_length_average</th>\n",
       "      <th>capital_run_length_longest</th>\n",
       "      <th>capital_run_length_total</th>\n",
       "      <th>spam</th>\n",
       "    </tr>\n",
       "  </thead>\n",
       "  <tbody>\n",
       "    <tr>\n",
       "      <th>0</th>\n",
       "      <td>0.00</td>\n",
       "      <td>0.64</td>\n",
       "      <td>0.64</td>\n",
       "      <td>0.0</td>\n",
       "      <td>0.32</td>\n",
       "      <td>0.00</td>\n",
       "      <td>0.00</td>\n",
       "      <td>0.00</td>\n",
       "      <td>0.00</td>\n",
       "      <td>0.00</td>\n",
       "      <td>...</td>\n",
       "      <td>0.00</td>\n",
       "      <td>0.000</td>\n",
       "      <td>0.0</td>\n",
       "      <td>0.778</td>\n",
       "      <td>0.000</td>\n",
       "      <td>0.000</td>\n",
       "      <td>3.756</td>\n",
       "      <td>61</td>\n",
       "      <td>278</td>\n",
       "      <td>1</td>\n",
       "    </tr>\n",
       "    <tr>\n",
       "      <th>1</th>\n",
       "      <td>0.21</td>\n",
       "      <td>0.28</td>\n",
       "      <td>0.50</td>\n",
       "      <td>0.0</td>\n",
       "      <td>0.14</td>\n",
       "      <td>0.28</td>\n",
       "      <td>0.21</td>\n",
       "      <td>0.07</td>\n",
       "      <td>0.00</td>\n",
       "      <td>0.94</td>\n",
       "      <td>...</td>\n",
       "      <td>0.00</td>\n",
       "      <td>0.132</td>\n",
       "      <td>0.0</td>\n",
       "      <td>0.372</td>\n",
       "      <td>0.180</td>\n",
       "      <td>0.048</td>\n",
       "      <td>5.114</td>\n",
       "      <td>101</td>\n",
       "      <td>1028</td>\n",
       "      <td>1</td>\n",
       "    </tr>\n",
       "    <tr>\n",
       "      <th>2</th>\n",
       "      <td>0.06</td>\n",
       "      <td>0.00</td>\n",
       "      <td>0.71</td>\n",
       "      <td>0.0</td>\n",
       "      <td>1.23</td>\n",
       "      <td>0.19</td>\n",
       "      <td>0.19</td>\n",
       "      <td>0.12</td>\n",
       "      <td>0.64</td>\n",
       "      <td>0.25</td>\n",
       "      <td>...</td>\n",
       "      <td>0.01</td>\n",
       "      <td>0.143</td>\n",
       "      <td>0.0</td>\n",
       "      <td>0.276</td>\n",
       "      <td>0.184</td>\n",
       "      <td>0.010</td>\n",
       "      <td>9.821</td>\n",
       "      <td>485</td>\n",
       "      <td>2259</td>\n",
       "      <td>1</td>\n",
       "    </tr>\n",
       "    <tr>\n",
       "      <th>3</th>\n",
       "      <td>0.00</td>\n",
       "      <td>0.00</td>\n",
       "      <td>0.00</td>\n",
       "      <td>0.0</td>\n",
       "      <td>0.63</td>\n",
       "      <td>0.00</td>\n",
       "      <td>0.31</td>\n",
       "      <td>0.63</td>\n",
       "      <td>0.31</td>\n",
       "      <td>0.63</td>\n",
       "      <td>...</td>\n",
       "      <td>0.00</td>\n",
       "      <td>0.137</td>\n",
       "      <td>0.0</td>\n",
       "      <td>0.137</td>\n",
       "      <td>0.000</td>\n",
       "      <td>0.000</td>\n",
       "      <td>3.537</td>\n",
       "      <td>40</td>\n",
       "      <td>191</td>\n",
       "      <td>1</td>\n",
       "    </tr>\n",
       "    <tr>\n",
       "      <th>4</th>\n",
       "      <td>0.00</td>\n",
       "      <td>0.00</td>\n",
       "      <td>0.00</td>\n",
       "      <td>0.0</td>\n",
       "      <td>0.63</td>\n",
       "      <td>0.00</td>\n",
       "      <td>0.31</td>\n",
       "      <td>0.63</td>\n",
       "      <td>0.31</td>\n",
       "      <td>0.63</td>\n",
       "      <td>...</td>\n",
       "      <td>0.00</td>\n",
       "      <td>0.135</td>\n",
       "      <td>0.0</td>\n",
       "      <td>0.135</td>\n",
       "      <td>0.000</td>\n",
       "      <td>0.000</td>\n",
       "      <td>3.537</td>\n",
       "      <td>40</td>\n",
       "      <td>191</td>\n",
       "      <td>1</td>\n",
       "    </tr>\n",
       "  </tbody>\n",
       "</table>\n",
       "<p>5 rows × 58 columns</p>\n",
       "</div>"
      ],
      "text/plain": [
       "    word_freq_make    word_freq_address    word_freq_all    word_freq_3d   \\\n",
       "0              0.00                 0.64             0.64             0.0   \n",
       "1              0.21                 0.28             0.50             0.0   \n",
       "2              0.06                 0.00             0.71             0.0   \n",
       "3              0.00                 0.00             0.00             0.0   \n",
       "4              0.00                 0.00             0.00             0.0   \n",
       "\n",
       "    word_freq_our    word_freq_over    word_freq_remove   \\\n",
       "0             0.32              0.00                0.00   \n",
       "1             0.14              0.28                0.21   \n",
       "2             1.23              0.19                0.19   \n",
       "3             0.63              0.00                0.31   \n",
       "4             0.63              0.00                0.31   \n",
       "\n",
       "    word_freq_internet    word_freq_order    word_freq_mail   ...   \\\n",
       "0                  0.00               0.00              0.00  ...    \n",
       "1                  0.07               0.00              0.94  ...    \n",
       "2                  0.12               0.64              0.25  ...    \n",
       "3                  0.63               0.31              0.63  ...    \n",
       "4                  0.63               0.31              0.63  ...    \n",
       "\n",
       "    char_freq_;    char_freq_(    char_freq_[    char_freq_!    char_freq_$   \\\n",
       "0           0.00          0.000            0.0          0.778          0.000   \n",
       "1           0.00          0.132            0.0          0.372          0.180   \n",
       "2           0.01          0.143            0.0          0.276          0.184   \n",
       "3           0.00          0.137            0.0          0.137          0.000   \n",
       "4           0.00          0.135            0.0          0.135          0.000   \n",
       "\n",
       "    char_freq_#    capital_run_length_average    capital_run_length_longest   \\\n",
       "0          0.000                         3.756                            61   \n",
       "1          0.048                         5.114                           101   \n",
       "2          0.010                         9.821                           485   \n",
       "3          0.000                         3.537                            40   \n",
       "4          0.000                         3.537                            40   \n",
       "\n",
       "    capital_run_length_total   spam  \n",
       "0                         278     1  \n",
       "1                        1028     1  \n",
       "2                        2259     1  \n",
       "3                         191     1  \n",
       "4                         191     1  \n",
       "\n",
       "[5 rows x 58 columns]"
      ]
     },
     "execution_count": 2,
     "metadata": {},
     "output_type": "execute_result"
    }
   ],
   "source": [
    "#Import dataset D3                  #Spam = 1/\"Yes\"\n",
    "Nms = [ ' word_freq_make ' , ' word_freq_address ' , ' word_freq_all ' , ' word_freq_3d ' , ' word_freq_our ' , ' word_freq_over ' , ' word_freq_remove ' , ' word_freq_internet ' , ' word_freq_order ' , ' word_freq_mail ' , ' word_freq_receive ' , ' word_freq_will ' , ' word_freq_people ' , ' word_freq_report ' , ' word_freq_addresses:    continuous. ' , ' word_freq_free ' , ' word_freq_business ' , ' word_freq_email ' , ' word_freq_you ' , ' word_freq_credit ' , ' word_freq_your ' , ' word_freq_font ' , ' word_freq_000 ' , ' word_freq_money ' , ' word_freq_hp ' , ' word_freq_hpl ' , ' word_freq_george ' , ' word_freq_650 ' , ' word_freq_lab ' , ' word_freq_labs ' , ' word_freq_telnet ' , ' word_freq_857 ' , ' word_freq_data ' , ' word_freq_415 ' , ' word_freq_85 ' , ' word_freq_technology ' , ' word_freq_1999 ' , ' word_freq_parts ' , ' word_freq_pm ' , ' word_freq_direct ' , ' word_freq_cs ' , ' word_freq_meeting ' , ' word_freq_original ' , ' word_freq_project ' , ' word_freq_re ' , ' word_freq_edu ' , ' word_freq_table ' , ' word_freq_conference ' , ' char_freq_; ' , ' char_freq_( ' , ' char_freq_[ ' , ' char_freq_! ' , ' char_freq_$ ' , ' char_freq_# ' , ' capital_run_length_average ' , ' capital_run_length_longest ' , ' capital_run_length_total ','spam']\n",
    "TXT =  pd.read_csv(\"https://archive.ics.uci.edu/ml/machine-learning-databases/spambase/spambase.data\",names= Nms)\n",
    "\n",
    "#Showing the first 5 rows of the table. \n",
    "#The names of the columns indicate each considered word/char for the analysis\n",
    "\n",
    "TXT.head()"
   ]
  },
  {
   "cell_type": "code",
   "execution_count": 2,
   "metadata": {},
   "outputs": [],
   "source": [
    "#Splitting the table into train and objetive data\n",
    "txt = np.array(TXT)\n",
    "X = txt[:,0:-1]\n",
    "Y = txt[:,-1]\n",
    "Xtr, Xtst, Ytr, Ytst = train_test_split(X, Y, test_size=0.30)"
   ]
  },
  {
   "cell_type": "markdown",
   "metadata": {},
   "source": [
    "### SVM model and hyperparameter optimization\n",
    "Format libsvm is included within scikit library. \n",
    "Hyperparameter optimizaion:\n",
    "    - Parameter \"C\", range (0.5 - 50) in increments of 0.5\n",
    "    - Kernels: \"linear\" and \"rbf\""
   ]
  },
  {
   "cell_type": "code",
   "execution_count": 38,
   "metadata": {},
   "outputs": [
    {
     "name": "stdout",
     "output_type": "stream",
     "text": [
      "Best value:  5.0\n",
      "Score:  0.824223602484\n"
     ]
    }
   ],
   "source": [
    "#Training the SVM classifier with \"linear\" kernel\n",
    "\n",
    "svm_ = svm.SVC('linear')\n",
    "\n",
    "#The optimization of C will take values from 0.5 up to 50, with intervals of 0.5\n",
    "C = np.arange(0.5,50.0,0.5).tolist()\n",
    "parameters = {'C':C}\n",
    "\n",
    "grid = GridSearchCV(svm_, parameters)\n",
    "grid.fit(Xtr, Ytr)\n",
    "results = pd.DataFrame(grid.cv_results_)\n",
    "print(\"Best value: \",grid.best_estimator_.C)\n",
    "print(\"Score: \",grid.best_score_)"
   ]
  },
  {
   "cell_type": "code",
   "execution_count": 39,
   "metadata": {},
   "outputs": [
    {
     "name": "stdout",
     "output_type": "stream",
     "text": [
      "Best value:  5.0\n",
      "Score:  0.824223602484\n"
     ]
    }
   ],
   "source": [
    "#Training the SVM classifier with \"rbf\" kernel\n",
    "svm_ = svm.SVC('rbf')\n",
    "\n",
    "#The optimization of C will take values from 0.5 up to 50, with intervals of 0.5\n",
    "C = np.arange(0.5,50.0,0.5).tolist()\n",
    "parameters = {'C':C}\n",
    "\n",
    "#Grid Search\n",
    "grid2 = GridSearchCV(svm_, parameters)\n",
    "grid2.fit(Xtr, Ytr)\n",
    "results2 = pd.DataFrame(grid2.cv_results_)\n",
    "print(\"Best value: \",grid2.best_estimator_.C)\n",
    "print(\"Score: \",grid2.best_score_)"
   ]
  },
  {
   "cell_type": "markdown",
   "metadata": {},
   "source": [
    "### Hyperparameter scores's plot\n",
    "The plot of the results found for each kernel are showed bellow. In this case the data, both kernels \"rbf\" and \"linear\" delivered the same results (thus, it appears that there is only one line in the graph).\n",
    "\n",
    "The best value of \"C\" is 5; it is observed that after that point, a higher value of C deliver a lower score"
   ]
  },
  {
   "cell_type": "code",
   "execution_count": 40,
   "metadata": {},
   "outputs": [
    {
     "data": {
      "image/png": "[encoded data removed]",
      "text/plain": [
       "<matplotlib.figure.Figure at 0x7fd72dd158d0>"
      ]
     },
     "metadata": {},
     "output_type": "display_data"
    }
   ],
   "source": [
    "#Plotting of \n",
    "#Scores Bar Plot\n",
    "plt.plot(C,results.iloc[:,2], \"maroon\")\n",
    "plt.plot(C,results2.iloc[:,2], \"blue\")\n",
    "plt.show()"
   ]
  },
  {
   "cell_type": "markdown",
   "metadata": {},
   "source": [
    "### Quality criterion: Missclasification rate\n",
    "In this case the quality criterion choosen is missclasification rate. Bellow are the showed both, the metod from scikit learn, and the \"raw\" implementation.\n",
    "\n",
    "The best score obtained for test data is of 84.8%"
   ]
  },
  {
   "cell_type": "code",
   "execution_count": 45,
   "metadata": {},
   "outputs": [
    {
     "data": {
      "text/plain": [
       "0.84793627805937721"
      ]
     },
     "execution_count": 45,
     "metadata": {},
     "output_type": "execute_result"
    }
   ],
   "source": [
    "#Calling the model using best hyperparameters found\n",
    "svm_ = svm.SVC(kernel='rbf', C= 5)\n",
    "\n",
    "#Fitting model into train data\n",
    "svm_.fit(Xtr,Ytr)\n",
    "\n",
    "#Evaluating model with test data\n",
    "svm_.score(Xtst,Ytst)         "
   ]
  },
  {
   "cell_type": "code",
   "execution_count": 56,
   "metadata": {},
   "outputs": [
    {
     "data": {
      "text/plain": [
       "0.8479362780593772"
      ]
     },
     "execution_count": 56,
     "metadata": {},
     "output_type": "execute_result"
    }
   ],
   "source": [
    "#Using the model learned to make prediction on test data\n",
    "Ŷ = svm_.predict(Xtst)\n",
    "\n",
    "#Implementing the missclasification rate\n",
    "def Acc(Y, ŷ):\n",
    "    acc = 0\n",
    "    for i in np.arange(len(Y)):\n",
    "        if Y[i]==ŷ[i]:\n",
    "            acc += 1\n",
    "    return acc/len(Y)\n",
    "\n",
    "Acc(Ytst,Ŷ)"
   ]
  },
  {
   "cell_type": "markdown",
   "metadata": {},
   "source": [
    "### Part B(8 Points) \n",
    "    Objetive: Pre-process a dataset and learn SVM \n",
    "The dataset D2 is not preprocessed. It consists of label[ham or spam] and content of sms text. \n",
    "    \n",
    "   #### a) Pre-process this data into a processable format. \n",
    "  - Convert text data into features. \n",
    "\n",
    "You can look at scikit-learn text feature extraction utilities i.e. TFIDF or count. \n",
    "  - Get rid of the stop words i.e. \"This\", \"the\", \"is\", \"a\" etc, which appear in almost all the documents. \n",
    "\n",
    "#### b) After preprocessing you have to use SVM implementation provided by scikit-learn. \n",
    "- Use different hyperparameters and two kernels (linear and RBF). \n",
    "- Perform 5-fold cross validation and present the score using plots and tables. \n",
    "   \n",
    "   You might also want to look at sklearn.pipeline.Pipeline utility to streamline your workflow.\n"
   ]
  },
  {
   "cell_type": "markdown",
   "metadata": {},
   "source": [
    "### Text pre-processing"
   ]
  },
  {
   "cell_type": "code",
   "execution_count": 2,
   "metadata": {},
   "outputs": [
    {
     "data": {
      "text/html": [
       "<div>\n",
       "<style scoped>\n",
       "    .dataframe tbody tr th:only-of-type {\n",
       "        vertical-align: middle;\n",
       "    }\n",
       "\n",
       "    .dataframe tbody tr th {\n",
       "        vertical-align: top;\n",
       "    }\n",
       "\n",
       "    .dataframe thead th {\n",
       "        text-align: right;\n",
       "    }\n",
       "</style>\n",
       "<table border=\"1\" class=\"dataframe\">\n",
       "  <thead>\n",
       "    <tr style=\"text-align: right;\">\n",
       "      <th></th>\n",
       "      <th>Ham/Spm</th>\n",
       "      <th>Text</th>\n",
       "    </tr>\n",
       "  </thead>\n",
       "  <tbody>\n",
       "    <tr>\n",
       "      <th>0</th>\n",
       "      <td>ham</td>\n",
       "      <td>Go until jurong point, crazy.. Available only ...</td>\n",
       "    </tr>\n",
       "    <tr>\n",
       "      <th>1</th>\n",
       "      <td>ham</td>\n",
       "      <td>Ok lar... Joking wif u oni...</td>\n",
       "    </tr>\n",
       "    <tr>\n",
       "      <th>2</th>\n",
       "      <td>spam</td>\n",
       "      <td>Free entry in 2 a wkly comp to win FA Cup fina...</td>\n",
       "    </tr>\n",
       "    <tr>\n",
       "      <th>3</th>\n",
       "      <td>ham</td>\n",
       "      <td>U dun say so early hor... U c already then say...</td>\n",
       "    </tr>\n",
       "    <tr>\n",
       "      <th>4</th>\n",
       "      <td>ham</td>\n",
       "      <td>Nah I don't think he goes to usf, he lives aro...</td>\n",
       "    </tr>\n",
       "  </tbody>\n",
       "</table>\n",
       "</div>"
      ],
      "text/plain": [
       "  Ham/Spm                                               Text\n",
       "0     ham  Go until jurong point, crazy.. Available only ...\n",
       "1     ham                      Ok lar... Joking wif u oni...\n",
       "2    spam  Free entry in 2 a wkly comp to win FA Cup fina...\n",
       "3     ham  U dun say so early hor... U c already then say...\n",
       "4     ham  Nah I don't think he goes to usf, he lives aro..."
      ]
     },
     "execution_count": 2,
     "metadata": {},
     "output_type": "execute_result"
    }
   ],
   "source": [
    "#Import Raw Data\n",
    "Nmsr = [\"Ham/Spm\",\"Text\"]\n",
    "TXRaw =  pd.read_table(\"/home/salvatore/Downloads/SMSSpamCollection\",sep=\"\\t\",names= Nmsr)\n",
    "\n",
    "#Showing the first 5 rows of the table\n",
    "TXRaw.head()"
   ]
  },
  {
   "cell_type": "code",
   "execution_count": 3,
   "metadata": {},
   "outputs": [
    {
     "data": {
      "text/html": [
       "<div>\n",
       "<style scoped>\n",
       "    .dataframe tbody tr th:only-of-type {\n",
       "        vertical-align: middle;\n",
       "    }\n",
       "\n",
       "    .dataframe tbody tr th {\n",
       "        vertical-align: top;\n",
       "    }\n",
       "\n",
       "    .dataframe thead th {\n",
       "        text-align: right;\n",
       "    }\n",
       "</style>\n",
       "<table border=\"1\" class=\"dataframe\">\n",
       "  <thead>\n",
       "    <tr style=\"text-align: right;\">\n",
       "      <th></th>\n",
       "      <th>ham</th>\n",
       "      <th>spam</th>\n",
       "    </tr>\n",
       "  </thead>\n",
       "  <tbody>\n",
       "    <tr>\n",
       "      <th>0</th>\n",
       "      <td>1</td>\n",
       "      <td>0</td>\n",
       "    </tr>\n",
       "    <tr>\n",
       "      <th>1</th>\n",
       "      <td>1</td>\n",
       "      <td>0</td>\n",
       "    </tr>\n",
       "    <tr>\n",
       "      <th>2</th>\n",
       "      <td>0</td>\n",
       "      <td>1</td>\n",
       "    </tr>\n",
       "    <tr>\n",
       "      <th>3</th>\n",
       "      <td>1</td>\n",
       "      <td>0</td>\n",
       "    </tr>\n",
       "    <tr>\n",
       "      <th>4</th>\n",
       "      <td>1</td>\n",
       "      <td>0</td>\n",
       "    </tr>\n",
       "  </tbody>\n",
       "</table>\n",
       "</div>"
      ],
      "text/plain": [
       "   ham  spam\n",
       "0    1     0\n",
       "1    1     0\n",
       "2    0     1\n",
       "3    1     0\n",
       "4    1     0"
      ]
     },
     "execution_count": 3,
     "metadata": {},
     "output_type": "execute_result"
    }
   ],
   "source": [
    "#Transforming the objetive data, only the column of \"spam\" will be used at the end\n",
    "\n",
    "Dummies = pd.get_dummies(TXRaw.iloc[:,0])\n",
    "Dummies.head()"
   ]
  },
  {
   "cell_type": "code",
   "execution_count": 4,
   "metadata": {},
   "outputs": [
    {
     "data": {
      "text/plain": [
       "array([0, 0, 1, ..., 0, 0, 0], dtype=uint8)"
      ]
     },
     "execution_count": 4,
     "metadata": {},
     "output_type": "execute_result"
    }
   ],
   "source": [
    "#From previous table, storing the \"Y\" values to be used for modeling\n",
    "\n",
    "Spam = np.array(Dummies.iloc[:,1])\n",
    "Spam"
   ]
  },
  {
   "cell_type": "code",
   "execution_count": 5,
   "metadata": {},
   "outputs": [
    {
     "data": {
      "text/plain": [
       "0    Go until jurong point, crazy.. Available only ...\n",
       "1                        Ok lar... Joking wif u oni...\n",
       "2    Free entry in 2 a wkly comp to win FA Cup fina...\n",
       "3    U dun say so early hor... U c already then say...\n",
       "4    Nah I don't think he goes to usf, he lives aro...\n",
       "Name: Text, dtype: object"
      ]
     },
     "execution_count": 5,
     "metadata": {},
     "output_type": "execute_result"
    }
   ],
   "source": [
    "#Building the \"Corpus\" to be processed; each row represent a document to pre-process\n",
    "\n",
    "Text = TXRaw.iloc[:,1]\n",
    "Text.head()"
   ]
  },
  {
   "cell_type": "code",
   "execution_count": 138,
   "metadata": {},
   "outputs": [],
   "source": [
    "from sklearn.feature_extraction.text import CountVectorizer\n",
    "\n",
    "#Calling the text-processer from scikit\n",
    "vectorizer = CountVectorizer()\n",
    "\n",
    "#Vectorizing all the \"Corpus\"\n",
    "X = vectorizer.fit_transform(Text)"
   ]
  },
  {
   "cell_type": "code",
   "execution_count": 96,
   "metadata": {},
   "outputs": [
    {
     "name": "stdout",
     "output_type": "stream",
     "text": [
      "  (0, 5567)\t1\n",
      "  (0, 8450)\t1\n",
      "  (0, 4342)\t1\n",
      "  (0, 4537)\t1\n",
      "  (0, 5538)\t1\n"
     ]
    }
   ],
   "source": [
    "#Example of the Compressed Sparse Row format generated by the Scikit CountVectorizer\n",
    "#It used libsvm libraries to build it\n",
    "\n",
    "print(X[1])"
   ]
  },
  {
   "cell_type": "code",
   "execution_count": 100,
   "metadata": {},
   "outputs": [
    {
     "name": "stdout",
     "output_type": "stream",
     "text": [
      "Shape (5572, 8713)\n"
     ]
    },
    {
     "data": {
      "text/plain": [
       "array([[0, 0, 0, ..., 0, 0, 0],\n",
       "       [0, 0, 0, ..., 0, 0, 0],\n",
       "       [0, 0, 0, ..., 0, 0, 0],\n",
       "       ..., \n",
       "       [0, 0, 0, ..., 0, 0, 0],\n",
       "       [0, 0, 0, ..., 0, 0, 0],\n",
       "       [0, 0, 0, ..., 0, 0, 0]], dtype=int64)"
      ]
     },
     "execution_count": 100,
     "metadata": {},
     "output_type": "execute_result"
    }
   ],
   "source": [
    "#Building the sparse matrix from the Compressed Sparse Row Format\n",
    "#There are in total 8713 unique words used in the Corpus composed of 5572 rows/documens (in this case \"SMS texts\")\n",
    "\n",
    "print(\"Shape\",np.shape(XX))\n",
    "XX = X.toarray()\n",
    "XX"
   ]
  },
  {
   "cell_type": "markdown",
   "metadata": {},
   "source": [
    "### SVM model and hyperparameter optimization\n",
    "As in part A, the hyperparameter optimizaion is:\n",
    "    - Parameter \"C\", range (0.5 - 50) in increments of 0.5\n",
    "    - Kernels: \"linear\" and \"rbf\""
   ]
  },
  {
   "cell_type": "code",
   "execution_count": 11,
   "metadata": {},
   "outputs": [],
   "source": [
    "# Data Splitting \n",
    "Xtr, Xtst, Ytr, Ytst = train_test_split(XX, Spam, test_size=0.30)"
   ]
  },
  {
   "cell_type": "code",
   "execution_count": 12,
   "metadata": {},
   "outputs": [
    {
     "name": "stdout",
     "output_type": "stream",
     "text": [
      "Best value:  47.5\n",
      "Score:  0.968974358974\n"
     ]
    }
   ],
   "source": [
    "svm_ = svm.SVC('linear')\n",
    "\n",
    "C = np.arange(0.5,50.0,0.5).tolist()\n",
    "parameters = {'C':C}\n",
    "\n",
    "grid = GridSearchCV(svm_, parameters)\n",
    "grid.fit(Xtr, Ytr)\n",
    "results = pd.DataFrame(grid.cv_results_)\n",
    "print(\"Best value: \",grid.best_estimator_.C)\n",
    "print(\"Score: \",grid.best_score_)\n",
    "#results.iloc[:,2:7]"
   ]
  },
  {
   "cell_type": "code",
   "execution_count": 13,
   "metadata": {},
   "outputs": [
    {
     "name": "stdout",
     "output_type": "stream",
     "text": [
      "Best value:  47.5\n",
      "Score:  0.968974358974\n"
     ]
    }
   ],
   "source": [
    "svm_ = svm.SVC('rbf')\n",
    "\n",
    "C = np.arange(0.5,50.0,0.5).tolist()\n",
    "parameters = {'C':C}\n",
    "\n",
    "grid2 = GridSearchCV(svm_, parameters)\n",
    "grid2.fit(Xtr, Ytr)\n",
    "results2 = pd.DataFrame(grid2.cv_results_)\n",
    "print(\"Best value: \",grid2.best_estimator_.C)\n",
    "print(\"Score: \",grid2.best_score_)\n",
    "#results.iloc[:,2:7]"
   ]
  },
  {
   "cell_type": "markdown",
   "metadata": {},
   "source": [
    "### Hyperparameter scores's plot\n",
    "As in part A, both kernels \"rbf\" and \"linear\" delivered the same results, this is why in the plot appears that there is only one line.\n",
    "\n",
    "The best value of \"C\" found is 47.5; it is observed that after that point, a higher value of C deliver a lower score.\n",
    "\n",
    "     -Time-optimization for each Kernel was about 6 hours\n",
    "     -Accuracy on test data: 96.88%"
   ]
  },
  {
   "cell_type": "code",
   "execution_count": 92,
   "metadata": {},
   "outputs": [
    {
     "data": {
      "text/html": [
       "<div>\n",
       "<style scoped>\n",
       "    .dataframe tbody tr th:only-of-type {\n",
       "        vertical-align: middle;\n",
       "    }\n",
       "\n",
       "    .dataframe tbody tr th {\n",
       "        vertical-align: top;\n",
       "    }\n",
       "\n",
       "    .dataframe thead th {\n",
       "        text-align: right;\n",
       "    }\n",
       "</style>\n",
       "<table border=\"1\" class=\"dataframe\">\n",
       "  <thead>\n",
       "    <tr style=\"text-align: right;\">\n",
       "      <th></th>\n",
       "      <th>mean_test_score</th>\n",
       "      <th>mean_train_score</th>\n",
       "      <th>param_C</th>\n",
       "      <th>params</th>\n",
       "      <th>rank_test_score</th>\n",
       "    </tr>\n",
       "  </thead>\n",
       "  <tbody>\n",
       "    <tr>\n",
       "      <th>94</th>\n",
       "      <td>0.968974</td>\n",
       "      <td>0.979359</td>\n",
       "      <td>47.5</td>\n",
       "      <td>{'C': 47.5}</td>\n",
       "      <td>1</td>\n",
       "    </tr>\n",
       "    <tr>\n",
       "      <th>95</th>\n",
       "      <td>0.968974</td>\n",
       "      <td>0.979488</td>\n",
       "      <td>48</td>\n",
       "      <td>{'C': 48.0}</td>\n",
       "      <td>1</td>\n",
       "    </tr>\n",
       "    <tr>\n",
       "      <th>96</th>\n",
       "      <td>0.968974</td>\n",
       "      <td>0.979616</td>\n",
       "      <td>48.5</td>\n",
       "      <td>{'C': 48.5}</td>\n",
       "      <td>1</td>\n",
       "    </tr>\n",
       "    <tr>\n",
       "      <th>97</th>\n",
       "      <td>0.968718</td>\n",
       "      <td>0.979616</td>\n",
       "      <td>49</td>\n",
       "      <td>{'C': 49.0}</td>\n",
       "      <td>4</td>\n",
       "    </tr>\n",
       "    <tr>\n",
       "      <th>98</th>\n",
       "      <td>0.968718</td>\n",
       "      <td>0.979744</td>\n",
       "      <td>49.5</td>\n",
       "      <td>{'C': 49.5}</td>\n",
       "      <td>4</td>\n",
       "    </tr>\n",
       "  </tbody>\n",
       "</table>\n",
       "</div>"
      ],
      "text/plain": [
       "    mean_test_score  mean_train_score param_C       params  rank_test_score\n",
       "94         0.968974          0.979359    47.5  {'C': 47.5}                1\n",
       "95         0.968974          0.979488      48  {'C': 48.0}                1\n",
       "96         0.968974          0.979616    48.5  {'C': 48.5}                1\n",
       "97         0.968718          0.979616      49  {'C': 49.0}                4\n",
       "98         0.968718          0.979744    49.5  {'C': 49.5}                4"
      ]
     },
     "execution_count": 92,
     "metadata": {},
     "output_type": "execute_result"
    }
   ],
   "source": [
    "#Results (last 5 -\"C\" values) of hyperparameter optimization using \"rbf\" Kernel\n",
    "results2.iloc[-5:,2:7]\n"
   ]
  },
  {
   "cell_type": "code",
   "execution_count": 111,
   "metadata": {},
   "outputs": [
    {
     "data": {
      "image/png": "[encoded data removed]",
      "text/plain": [
       "<matplotlib.figure.Figure at 0x7fabb8c94898>"
      ]
     },
     "metadata": {},
     "output_type": "display_data"
    }
   ],
   "source": [
    "#Scores Bar Plot\n",
    "plt.figure(figsize=(11,7.5))\n",
    "plt.title(\"Hyperparameter optimization, Kernels and 'C' value\")\n",
    "plt.xlabel(\"'C' values\")\n",
    "plt.ylabel(\"Scores\")\n",
    "plt.plot(C,results.iloc[:,2], \"maroon\")\n",
    "plt.plot(C,results2.iloc[:,2], \"blue\")\n",
    "plt.legend([\"Kernel:rbf \",\"Kernel:linear\"])\n",
    "plt.show()"
   ]
  },
  {
   "cell_type": "code",
   "execution_count": 18,
   "metadata": {},
   "outputs": [
    {
     "data": {
      "text/plain": [
       "0.96889952153110048"
      ]
     },
     "execution_count": 18,
     "metadata": {},
     "output_type": "execute_result"
    }
   ],
   "source": [
    "svm_ = svm.SVC(kernel='rbf', C= 47.5)\n",
    "svm_.fit(Xtr,Ytr)\n",
    "Ŷ = svm_.predict(Xtst)\n",
    "svm_.score(Xtst,Ytst) "
   ]
  },
  {
   "cell_type": "markdown",
   "metadata": {},
   "source": [
    "### Word's Bag optimization\n",
    "\n",
    "Althoug the score on test data was optimal, the time required optimize the hyperparameter C, took about 6 hours per kernel (trying 100 different values of C). This time is the result of the usage of the whole bag of words i.e. the complete vocabulary of the corpus (8713)\n",
    "\n",
    "In order to optimize the time, a search for the \"most significative\" words for the classification of spam/ham was performed:\n",
    "\n",
    "    - Generation of the whole bag of words\n",
    "    - Generation of the frequencies of each word in Ham/Spam text\n",
    "    - Selection criteria for the most representative words\n",
    "    - Model generation\n",
    "    - Results"
   ]
  },
  {
   "cell_type": "code",
   "execution_count": 140,
   "metadata": {},
   "outputs": [
    {
     "data": {
      "text/plain": [
       "array(['00', '000', '000pes', ..., 'èn', 'ú1', '〨ud'],\n",
       "      dtype='<U34')"
      ]
     },
     "execution_count": 140,
     "metadata": {},
     "output_type": "execute_result"
    }
   ],
   "source": [
    "#From the corpus, obtaining the \"Bag\" of words\n",
    "Words = np.array(vectorizer.get_feature_names())\n",
    "\n",
    "#Showing the bag of words\n",
    "Words"
   ]
  },
  {
   "cell_type": "code",
   "execution_count": 8,
   "metadata": {},
   "outputs": [
    {
     "data": {
      "text/plain": [
       "array([10, 29,  1, ...,  1,  1,  1], dtype=int64)"
      ]
     },
     "execution_count": 8,
     "metadata": {},
     "output_type": "execute_result"
    }
   ],
   "source": [
    "\"\"\"Using the sparse matrix using and the function np.sum, the \n",
    "frequencies of each word over the entire Corpus was generated\"\"\"\n",
    "\n",
    "Values = np.sum(XX,axis=0)\n",
    "\n",
    "#Showing the frequencies of each word\n",
    "Values"
   ]
  },
  {
   "cell_type": "code",
   "execution_count": 141,
   "metadata": {},
   "outputs": [
    {
     "data": {
      "image/png": "[encoded data removed]",
      "text/plain": [
       "<matplotlib.figure.Figure at 0x7fab9c20a198>"
      ]
     },
     "metadata": {},
     "output_type": "display_data"
    }
   ],
   "source": [
    "#Plot of the frequencies of each word\n",
    "plt.figure(figsize=(15,7.5))\n",
    "plt.title(\"Word's frequency in All Corpus data\")\n",
    "plt.xlabel(\"Word ID\")\n",
    "plt.ylabel(\"Frequency\")\n",
    "plt.plot(np.sum(XX,axis=0),'-m',linewidth=0.8)\n",
    "plt.show()"
   ]
  },
  {
   "cell_type": "code",
   "execution_count": 143,
   "metadata": {},
   "outputs": [
    {
     "name": "stdout",
     "output_type": "stream",
     "text": [
      "[['anderson', 980], ['area', 495], ['ate', 406], ['beach', 388], ['butt', 448], ['call09050000327', 593], ['canada', 471], ['dob', 410], ['force', 711], ['get4an18th', 391], ['gua', 318], ['havebeen', 578], ['howard', 313], ['iff', 390], ['in2', 903], ['isaiah', 897], ['italian', 752], ['justbeen', 376], ['ltd', 316], ['meal', 807], ['mycalls', 766], ['no1', 369], ['note', 445], ['now1', 499], ['ofcourse', 623], ['onam', 538], ['or2optout', 423], ['soc', 462], ['that2worzels', 586], ['the4th', 1339], ['thk', 343], ['toa', 2253], ['up4', 309], ['urawinner', 391], ['weak', 408], ['willing', 390], ['withdraw', 383], ['youdoing', 2245], ['youre', 681]]\n"
     ]
    }
   ],
   "source": [
    "#Example of words with more Frequency>300 in Corpus\n",
    "n= 0\n",
    "Bag2 = []\n",
    "for v in Values:\n",
    "    n+= 1\n",
    "    if v>300:\n",
    "        V = [Words[n],v]\n",
    "        Bag2.append(V)\n",
    "print(Bag2)"
   ]
  },
  {
   "cell_type": "markdown",
   "metadata": {},
   "source": [
    "### Selection Criteria\n",
    "\n",
    "In order to find the most meaningful word on spam messages, the total frequencies of each word were divided into spam/ham. The selection Criteria of the words was somewhat straigthforward:\n",
    "\n",
    "    1)To each word frequency on \"spam\" data, the frequency of words on \"ham\" data was substracted\n",
    "    2)From the remaining frequencies, only those>20 were considered (to generalize)\n",
    "    "
   ]
  },
  {
   "cell_type": "code",
   "execution_count": 145,
   "metadata": {},
   "outputs": [
    {
     "data": {
      "image/png": "[encoded data removed]",
      "text/plain": [
       "<matplotlib.figure.Figure at 0x7fab9bd8d550>"
      ]
     },
     "metadata": {},
     "output_type": "display_data"
    }
   ],
   "source": [
    "Ws = np.zeros(len(XX[0]))\n",
    "Wh = np.zeros(len(XX[0]))\n",
    "for i in np.arange(len(XX)):\n",
    "    if Spam[i]==1:\n",
    "        Ws+= XX[i]\n",
    "\n",
    "for i in np.arange(len(XX)):\n",
    "    if Spam[i]==0:\n",
    "        Wh+= XX[i]\n",
    "\n",
    "plt.figure(figsize=(15,7.5))\n",
    "plt.title(\"Word's Frequency on Spam/Ham Corpus\")\n",
    "plt.xlabel(\"Word ID\")\n",
    "plt.ylabel(\"Frequency\")\n",
    "plt.plot(Ws,'-b',linewidth=1.1)\n",
    "plt.plot(-Wh,'-y',linewidth=0.4)\n",
    "plt.legend([\"Spam Words\",\"Ham Words\"])\n",
    "plt.show()"
   ]
  },
  {
   "cell_type": "code",
   "execution_count": 150,
   "metadata": {},
   "outputs": [
    {
     "name": "stdout",
     "output_type": "stream",
     "text": [
      "Bag Size: 74\n",
      "[['000', 29.0], ['100', 39.0], ['1000', 41.0], ['10p', 24.0], ['150p', 71.0], ['150ppm', 34.0], ['16', 52.0], ['18', 51.0], ['2000', 23.0], ['50', 52.0], ['500', 44.0], ['5000', 25.0], ['800', 22.0], ['8007', 21.0], ['apply', 28.0], ['award', 27.0], ['awarded', 38.0], ['bonus', 21.0], ['box', 28.0], ['call', 117.0], ['camera', 32.0], ['cash', 64.0], ['chat', 30.0], ['claim', 113.0], ['co', 52.0], ['code', 29.0], ['collection', 26.0], ['com', 37.0], ['contact', 44.0], ['cost', 21.0], ['cs', 44.0], ['customer', 40.0], ['draw', 34.0], ['entry', 26.0], ['free', 164.0], ['guaranteed', 50.0], ['http', 21.0], ['landline', 30.0], ['latest', 33.0], ['line', 27.0], ['mins', 24.0], ['mob', 25.0], ['mobile', 112.0], ['national', 22.0], ['network', 21.0], ['nokia', 64.0], ['orange', 23.0], ['our', 21.0], ['per', 34.0], ['po', 29.0], ['prize', 93.0], ['rate', 28.0], ['receive', 28.0], ['reply', 60.0], ['ringtone', 32.0], ['sae', 21.0], ['selected', 21.0], ['service', 52.0], ['shows', 26.0], ['stop', 86.0], ['text', 57.0], ['tone', 60.0], ['tones', 26.0], ['txt', 149.0], ['uk', 73.0], ['urgent', 56.0], ['valid', 24.0], ['video', 30.0], ['vouchers', 21.0], ['weekly', 24.0], ['win', 52.0], ['wk', 24.0], ['won', 57.0], ['www', 96.0]]\n"
     ]
    }
   ],
   "source": [
    "#total words in all the Corpus\n",
    "Wt = np.sum(XX)\n",
    "\n",
    "#len(XX.T) =  number of different words in Corpus (also considered as indexes) \n",
    "#Words identification for Spam messages \n",
    "\n",
    "n= 0\n",
    "Bag = []\n",
    "for i in np.arange(len(XX.T)):\n",
    "    p= (Ws[i]-Wh[i])\n",
    "    if p>20:\n",
    "        Bag.append([Words[i],p])\n",
    "    n+= 1\n",
    "print(\"Bag Size:\",len(Bag))\n",
    "print(Bag)"
   ]
  },
  {
   "cell_type": "markdown",
   "metadata": {},
   "source": [
    "### SVM Model Generation and Hyperparameter Optimization\n",
    "As in previous incises, the results of both kernels, linear and rbf are the same. \n",
    "\n",
    "    - Best value of \"C\": 17\n",
    "    - Time for hyperparameter optimization: c.a. 1 minute\n",
    "    - Accuracy on test data: 97%"
   ]
  },
  {
   "cell_type": "code",
   "execution_count": 172,
   "metadata": {},
   "outputs": [],
   "source": [
    "n= 0\n",
    "Bag = []\n",
    "P = []\n",
    "for i in np.arange(len(XX.T)):\n",
    "    p= (Ws[i]-Wh[i])\n",
    "    if p>20:\n",
    "        Bag.append(Words[i])\n",
    "    n+= 1\n",
    "    \n",
    "vectorizer = CountVectorizer(vocabulary=Bag)\n",
    "X2 = vectorizer.fit_transform(Text)\n",
    "Words2 = np.array(vectorizer.get_feature_names())\n",
    "Values2 = np.sum(X2.toarray(),axis=0)\n",
    "XX2 = X2.toarray()"
   ]
  },
  {
   "cell_type": "code",
   "execution_count": 185,
   "metadata": {},
   "outputs": [
    {
     "name": "stdout",
     "output_type": "stream",
     "text": [
      "Best value:  17\n",
      "Score:  0.973333333333\n"
     ]
    }
   ],
   "source": [
    "Xtr, Xtst, Ytr, Ytst = train_test_split(XX2, Spam, test_size=0.30)\n",
    "\n",
    "svm_ = svm.SVC('linear')\n",
    "\n",
    "C = np.arange(1,100,2).tolist()\n",
    "parameters = {'C':C}\n",
    "\n",
    "grid = GridSearchCV(svm_, parameters)\n",
    "grid.fit(Xtr, Ytr)\n",
    "results_ = pd.DataFrame(grid.cv_results_)\n",
    "print(\"Best value: \",grid.best_estimator_.C)\n",
    "print(\"Score: \",grid.best_score_)"
   ]
  },
  {
   "cell_type": "code",
   "execution_count": 186,
   "metadata": {},
   "outputs": [
    {
     "data": {
      "image/png": "[encoded data removed]",
      "text/plain": [
       "<matplotlib.figure.Figure at 0x7fab9b129ac8>"
      ]
     },
     "metadata": {},
     "output_type": "display_data"
    }
   ],
   "source": [
    "#Scores Bar Plot\n",
    "plt.figure(figsize=(15,7.5))\n",
    "plt.title(\"Hyperparameter optimization of 'C', Kernel: Linear, folds=3\")\n",
    "plt.xlabel(\"Parameter 'C'\")\n",
    "plt.ylabel(\"Scores\")\n",
    "plt.plot(C,results_.iloc[:,2], \"maroon\")\n",
    "plt.plot(C,results_.iloc[:,3], \"blue\")\n",
    "plt.legend([\"Test\",\"Train\"])\n",
    "plt.show()"
   ]
  },
  {
   "cell_type": "code",
   "execution_count": 189,
   "metadata": {},
   "outputs": [
    {
     "data": {
      "text/html": [
       "<div>\n",
       "<style scoped>\n",
       "    .dataframe tbody tr th:only-of-type {\n",
       "        vertical-align: middle;\n",
       "    }\n",
       "\n",
       "    .dataframe tbody tr th {\n",
       "        vertical-align: top;\n",
       "    }\n",
       "\n",
       "    .dataframe thead th {\n",
       "        text-align: right;\n",
       "    }\n",
       "</style>\n",
       "<table border=\"1\" class=\"dataframe\">\n",
       "  <thead>\n",
       "    <tr style=\"text-align: right;\">\n",
       "      <th></th>\n",
       "      <th>mean_test_score</th>\n",
       "      <th>mean_train_score</th>\n",
       "      <th>param_C</th>\n",
       "      <th>params</th>\n",
       "      <th>rank_test_score</th>\n",
       "    </tr>\n",
       "  </thead>\n",
       "  <tbody>\n",
       "    <tr>\n",
       "      <th>0</th>\n",
       "      <td>0.961026</td>\n",
       "      <td>0.964231</td>\n",
       "      <td>1</td>\n",
       "      <td>{'C': 1}</td>\n",
       "      <td>50</td>\n",
       "    </tr>\n",
       "    <tr>\n",
       "      <th>1</th>\n",
       "      <td>0.968974</td>\n",
       "      <td>0.973462</td>\n",
       "      <td>3</td>\n",
       "      <td>{'C': 3}</td>\n",
       "      <td>47</td>\n",
       "    </tr>\n",
       "    <tr>\n",
       "      <th>2</th>\n",
       "      <td>0.970000</td>\n",
       "      <td>0.975513</td>\n",
       "      <td>5</td>\n",
       "      <td>{'C': 5}</td>\n",
       "      <td>38</td>\n",
       "    </tr>\n",
       "    <tr>\n",
       "      <th>3</th>\n",
       "      <td>0.970769</td>\n",
       "      <td>0.975770</td>\n",
       "      <td>7</td>\n",
       "      <td>{'C': 7}</td>\n",
       "      <td>11</td>\n",
       "    </tr>\n",
       "    <tr>\n",
       "      <th>4</th>\n",
       "      <td>0.972051</td>\n",
       "      <td>0.976539</td>\n",
       "      <td>9</td>\n",
       "      <td>{'C': 9}</td>\n",
       "      <td>8</td>\n",
       "    </tr>\n",
       "    <tr>\n",
       "      <th>5</th>\n",
       "      <td>0.972308</td>\n",
       "      <td>0.976411</td>\n",
       "      <td>11</td>\n",
       "      <td>{'C': 11}</td>\n",
       "      <td>6</td>\n",
       "    </tr>\n",
       "    <tr>\n",
       "      <th>6</th>\n",
       "      <td>0.972564</td>\n",
       "      <td>0.976667</td>\n",
       "      <td>13</td>\n",
       "      <td>{'C': 13}</td>\n",
       "      <td>5</td>\n",
       "    </tr>\n",
       "    <tr>\n",
       "      <th>7</th>\n",
       "      <td>0.972821</td>\n",
       "      <td>0.976667</td>\n",
       "      <td>15</td>\n",
       "      <td>{'C': 15}</td>\n",
       "      <td>2</td>\n",
       "    </tr>\n",
       "    <tr>\n",
       "      <th>8</th>\n",
       "      <td>0.973333</td>\n",
       "      <td>0.977436</td>\n",
       "      <td>17</td>\n",
       "      <td>{'C': 17}</td>\n",
       "      <td>1</td>\n",
       "    </tr>\n",
       "    <tr>\n",
       "      <th>9</th>\n",
       "      <td>0.972821</td>\n",
       "      <td>0.977565</td>\n",
       "      <td>19</td>\n",
       "      <td>{'C': 19}</td>\n",
       "      <td>2</td>\n",
       "    </tr>\n",
       "    <tr>\n",
       "      <th>10</th>\n",
       "      <td>0.972821</td>\n",
       "      <td>0.977693</td>\n",
       "      <td>21</td>\n",
       "      <td>{'C': 21}</td>\n",
       "      <td>2</td>\n",
       "    </tr>\n",
       "  </tbody>\n",
       "</table>\n",
       "</div>"
      ],
      "text/plain": [
       "    mean_test_score  mean_train_score param_C     params  rank_test_score\n",
       "0          0.961026          0.964231       1   {'C': 1}               50\n",
       "1          0.968974          0.973462       3   {'C': 3}               47\n",
       "2          0.970000          0.975513       5   {'C': 5}               38\n",
       "3          0.970769          0.975770       7   {'C': 7}               11\n",
       "4          0.972051          0.976539       9   {'C': 9}                8\n",
       "5          0.972308          0.976411      11  {'C': 11}                6\n",
       "6          0.972564          0.976667      13  {'C': 13}                5\n",
       "7          0.972821          0.976667      15  {'C': 15}                2\n",
       "8          0.973333          0.977436      17  {'C': 17}                1\n",
       "9          0.972821          0.977565      19  {'C': 19}                2\n",
       "10         0.972821          0.977693      21  {'C': 21}                2"
      ]
     },
     "execution_count": 189,
     "metadata": {},
     "output_type": "execute_result"
    }
   ],
   "source": [
    "results_.iloc[0:11:,2:7]"
   ]
  },
  {
   "cell_type": "code",
   "execution_count": 188,
   "metadata": {},
   "outputs": [
    {
     "data": {
      "text/plain": [
       "0.97009569377990434"
      ]
     },
     "execution_count": 188,
     "metadata": {},
     "output_type": "execute_result"
    }
   ],
   "source": [
    "svm_ = svm.SVC(kernel='linear', C= 17)\n",
    "svm_.fit(Xtr,Ytr)\n",
    "svm_.score(Xtst,Ytst) "
   ]
  },
  {
   "cell_type": "markdown",
   "metadata": {},
   "source": [
    "## Exercise 2: Compare SVM based spam filter with another model (4 Points)\n",
    "\n",
    "#### Objetive \n",
    "Compare results obtained in one of the task above with another model of your choice (decision trees or logistic regression etc). \n",
    "\n",
    "\n",
    "- Optimize the hyperparameters and perform 5-fold cross validation. \n",
    "You can use scikit-learn implementation. \n",
    "- Compare the results and accuracy. \n",
    "- Conclude your findings.\n"
   ]
  },
  {
   "cell_type": "markdown",
   "metadata": {},
   "source": [
    "### Logistic Regression (L2)"
   ]
  },
  {
   "cell_type": "code",
   "execution_count": 190,
   "metadata": {},
   "outputs": [
    {
     "data": {
      "text/plain": [
       "0.96650717703349287"
      ]
     },
     "execution_count": 190,
     "metadata": {},
     "output_type": "execute_result"
    }
   ],
   "source": [
    "from sklearn.linear_model import LogisticRegression\n",
    "\n",
    "clf = LogisticRegression()\n",
    "clf.fit(Xtr,Ytr)\n",
    "clf.score(Xtst,Ytst)"
   ]
  },
  {
   "cell_type": "markdown",
   "metadata": {},
   "source": [
    "### Decision Tree"
   ]
  },
  {
   "cell_type": "code",
   "execution_count": 218,
   "metadata": {},
   "outputs": [
    {
     "name": "stdout",
     "output_type": "stream",
     "text": [
      "Best Depth value:  28\n",
      "Score:  0.964871794872\n"
     ]
    }
   ],
   "source": [
    "from sklearn.tree import DecisionTreeClassifier\n",
    "TreeParam ={'max_depth': range(1,50,1)}\n",
    "Tree_clf  = DecisionTreeClassifier()\n",
    "\n",
    "#Grid Search \n",
    "#Hyperparameters: Split per leaf, and depth\n",
    "Tree_grid = GridSearchCV(Tree_clf,TreeParam)\n",
    "Tree_grid.fit(Xtr,Ytr)\n",
    "\n",
    "Results = pd.DataFrame(Tree_grid.cv_results_)\n",
    "print(\"Best Depth value: \",Tree_grid.best_estimator_.max_depth)\n",
    "print(\"Score: \",Tree_grid.best_score_)"
   ]
  },
  {
   "cell_type": "code",
   "execution_count": 221,
   "metadata": {},
   "outputs": [
    {
     "data": {
      "text/html": [
       "<div>\n",
       "<style scoped>\n",
       "    .dataframe tbody tr th:only-of-type {\n",
       "        vertical-align: middle;\n",
       "    }\n",
       "\n",
       "    .dataframe tbody tr th {\n",
       "        vertical-align: top;\n",
       "    }\n",
       "\n",
       "    .dataframe thead th {\n",
       "        text-align: right;\n",
       "    }\n",
       "</style>\n",
       "<table border=\"1\" class=\"dataframe\">\n",
       "  <thead>\n",
       "    <tr style=\"text-align: right;\">\n",
       "      <th></th>\n",
       "      <th>mean_test_score</th>\n",
       "      <th>mean_train_score</th>\n",
       "      <th>param_max_depth</th>\n",
       "      <th>params</th>\n",
       "      <th>rank_test_score</th>\n",
       "      <th>split0_test_score</th>\n",
       "    </tr>\n",
       "  </thead>\n",
       "  <tbody>\n",
       "    <tr>\n",
       "      <th>10</th>\n",
       "      <td>0.950000</td>\n",
       "      <td>0.972949</td>\n",
       "      <td>11</td>\n",
       "      <td>{'max_depth': 11}</td>\n",
       "      <td>39</td>\n",
       "      <td>0.943121</td>\n",
       "    </tr>\n",
       "    <tr>\n",
       "      <th>11</th>\n",
       "      <td>0.951795</td>\n",
       "      <td>0.975641</td>\n",
       "      <td>12</td>\n",
       "      <td>{'max_depth': 12}</td>\n",
       "      <td>38</td>\n",
       "      <td>0.948501</td>\n",
       "    </tr>\n",
       "    <tr>\n",
       "      <th>12</th>\n",
       "      <td>0.955641</td>\n",
       "      <td>0.977949</td>\n",
       "      <td>13</td>\n",
       "      <td>{'max_depth': 13}</td>\n",
       "      <td>37</td>\n",
       "      <td>0.948501</td>\n",
       "    </tr>\n",
       "    <tr>\n",
       "      <th>13</th>\n",
       "      <td>0.958205</td>\n",
       "      <td>0.980000</td>\n",
       "      <td>14</td>\n",
       "      <td>{'max_depth': 14}</td>\n",
       "      <td>36</td>\n",
       "      <td>0.949270</td>\n",
       "    </tr>\n",
       "    <tr>\n",
       "      <th>14</th>\n",
       "      <td>0.961026</td>\n",
       "      <td>0.981795</td>\n",
       "      <td>15</td>\n",
       "      <td>{'max_depth': 15}</td>\n",
       "      <td>35</td>\n",
       "      <td>0.953882</td>\n",
       "    </tr>\n",
       "    <tr>\n",
       "      <th>15</th>\n",
       "      <td>0.962051</td>\n",
       "      <td>0.982692</td>\n",
       "      <td>16</td>\n",
       "      <td>{'max_depth': 16}</td>\n",
       "      <td>32</td>\n",
       "      <td>0.955419</td>\n",
       "    </tr>\n",
       "    <tr>\n",
       "      <th>16</th>\n",
       "      <td>0.961538</td>\n",
       "      <td>0.983462</td>\n",
       "      <td>17</td>\n",
       "      <td>{'max_depth': 17}</td>\n",
       "      <td>33</td>\n",
       "      <td>0.955419</td>\n",
       "    </tr>\n",
       "    <tr>\n",
       "      <th>17</th>\n",
       "      <td>0.963333</td>\n",
       "      <td>0.984359</td>\n",
       "      <td>18</td>\n",
       "      <td>{'max_depth': 18}</td>\n",
       "      <td>19</td>\n",
       "      <td>0.959262</td>\n",
       "    </tr>\n",
       "    <tr>\n",
       "      <th>18</th>\n",
       "      <td>0.962564</td>\n",
       "      <td>0.985385</td>\n",
       "      <td>19</td>\n",
       "      <td>{'max_depth': 19}</td>\n",
       "      <td>29</td>\n",
       "      <td>0.955419</td>\n",
       "    </tr>\n",
       "    <tr>\n",
       "      <th>19</th>\n",
       "      <td>0.964103</td>\n",
       "      <td>0.986026</td>\n",
       "      <td>20</td>\n",
       "      <td>{'max_depth': 20}</td>\n",
       "      <td>8</td>\n",
       "      <td>0.957725</td>\n",
       "    </tr>\n",
       "    <tr>\n",
       "      <th>20</th>\n",
       "      <td>0.964103</td>\n",
       "      <td>0.986154</td>\n",
       "      <td>21</td>\n",
       "      <td>{'max_depth': 21}</td>\n",
       "      <td>8</td>\n",
       "      <td>0.958493</td>\n",
       "    </tr>\n",
       "    <tr>\n",
       "      <th>21</th>\n",
       "      <td>0.963077</td>\n",
       "      <td>0.986282</td>\n",
       "      <td>22</td>\n",
       "      <td>{'max_depth': 22}</td>\n",
       "      <td>25</td>\n",
       "      <td>0.956956</td>\n",
       "    </tr>\n",
       "    <tr>\n",
       "      <th>22</th>\n",
       "      <td>0.962821</td>\n",
       "      <td>0.986795</td>\n",
       "      <td>23</td>\n",
       "      <td>{'max_depth': 23}</td>\n",
       "      <td>27</td>\n",
       "      <td>0.955419</td>\n",
       "    </tr>\n",
       "    <tr>\n",
       "      <th>23</th>\n",
       "      <td>0.963333</td>\n",
       "      <td>0.986923</td>\n",
       "      <td>24</td>\n",
       "      <td>{'max_depth': 24}</td>\n",
       "      <td>19</td>\n",
       "      <td>0.957725</td>\n",
       "    </tr>\n",
       "    <tr>\n",
       "      <th>24</th>\n",
       "      <td>0.963590</td>\n",
       "      <td>0.986923</td>\n",
       "      <td>25</td>\n",
       "      <td>{'max_depth': 25}</td>\n",
       "      <td>14</td>\n",
       "      <td>0.956956</td>\n",
       "    </tr>\n",
       "    <tr>\n",
       "      <th>25</th>\n",
       "      <td>0.963590</td>\n",
       "      <td>0.987052</td>\n",
       "      <td>26</td>\n",
       "      <td>{'max_depth': 26}</td>\n",
       "      <td>14</td>\n",
       "      <td>0.959262</td>\n",
       "    </tr>\n",
       "    <tr>\n",
       "      <th>26</th>\n",
       "      <td>0.963333</td>\n",
       "      <td>0.987052</td>\n",
       "      <td>27</td>\n",
       "      <td>{'max_depth': 27}</td>\n",
       "      <td>19</td>\n",
       "      <td>0.958493</td>\n",
       "    </tr>\n",
       "    <tr>\n",
       "      <th>27</th>\n",
       "      <td>0.964872</td>\n",
       "      <td>0.987052</td>\n",
       "      <td>28</td>\n",
       "      <td>{'max_depth': 28}</td>\n",
       "      <td>1</td>\n",
       "      <td>0.960031</td>\n",
       "    </tr>\n",
       "    <tr>\n",
       "      <th>28</th>\n",
       "      <td>0.964103</td>\n",
       "      <td>0.987052</td>\n",
       "      <td>29</td>\n",
       "      <td>{'max_depth': 29}</td>\n",
       "      <td>8</td>\n",
       "      <td>0.960031</td>\n",
       "    </tr>\n",
       "    <tr>\n",
       "      <th>29</th>\n",
       "      <td>0.962564</td>\n",
       "      <td>0.987052</td>\n",
       "      <td>30</td>\n",
       "      <td>{'max_depth': 30}</td>\n",
       "      <td>29</td>\n",
       "      <td>0.957725</td>\n",
       "    </tr>\n",
       "  </tbody>\n",
       "</table>\n",
       "</div>"
      ],
      "text/plain": [
       "    mean_test_score  mean_train_score param_max_depth             params  \\\n",
       "10         0.950000          0.972949              11  {'max_depth': 11}   \n",
       "11         0.951795          0.975641              12  {'max_depth': 12}   \n",
       "12         0.955641          0.977949              13  {'max_depth': 13}   \n",
       "13         0.958205          0.980000              14  {'max_depth': 14}   \n",
       "14         0.961026          0.981795              15  {'max_depth': 15}   \n",
       "15         0.962051          0.982692              16  {'max_depth': 16}   \n",
       "16         0.961538          0.983462              17  {'max_depth': 17}   \n",
       "17         0.963333          0.984359              18  {'max_depth': 18}   \n",
       "18         0.962564          0.985385              19  {'max_depth': 19}   \n",
       "19         0.964103          0.986026              20  {'max_depth': 20}   \n",
       "20         0.964103          0.986154              21  {'max_depth': 21}   \n",
       "21         0.963077          0.986282              22  {'max_depth': 22}   \n",
       "22         0.962821          0.986795              23  {'max_depth': 23}   \n",
       "23         0.963333          0.986923              24  {'max_depth': 24}   \n",
       "24         0.963590          0.986923              25  {'max_depth': 25}   \n",
       "25         0.963590          0.987052              26  {'max_depth': 26}   \n",
       "26         0.963333          0.987052              27  {'max_depth': 27}   \n",
       "27         0.964872          0.987052              28  {'max_depth': 28}   \n",
       "28         0.964103          0.987052              29  {'max_depth': 29}   \n",
       "29         0.962564          0.987052              30  {'max_depth': 30}   \n",
       "\n",
       "    rank_test_score  split0_test_score  \n",
       "10               39           0.943121  \n",
       "11               38           0.948501  \n",
       "12               37           0.948501  \n",
       "13               36           0.949270  \n",
       "14               35           0.953882  \n",
       "15               32           0.955419  \n",
       "16               33           0.955419  \n",
       "17               19           0.959262  \n",
       "18               29           0.955419  \n",
       "19                8           0.957725  \n",
       "20                8           0.958493  \n",
       "21               25           0.956956  \n",
       "22               27           0.955419  \n",
       "23               19           0.957725  \n",
       "24               14           0.956956  \n",
       "25               14           0.959262  \n",
       "26               19           0.958493  \n",
       "27                1           0.960031  \n",
       "28                8           0.960031  \n",
       "29               29           0.957725  "
      ]
     },
     "execution_count": 221,
     "metadata": {},
     "output_type": "execute_result"
    }
   ],
   "source": [
    "Results.iloc[10:30:,2:8]"
   ]
  },
  {
   "cell_type": "code",
   "execution_count": 219,
   "metadata": {},
   "outputs": [
    {
     "data": {
      "image/png": "[encoded data removed]",
      "text/plain": [
       "<matplotlib.figure.Figure at 0x7fab9cbc9390>"
      ]
     },
     "metadata": {},
     "output_type": "display_data"
    }
   ],
   "source": [
    "#Scores Bar Plot\n",
    "plt.figure(figsize=(15,7.5))\n",
    "plt.title(\"Hyperparameter optimization of 'Depth',folds=3\")\n",
    "plt.xlabel(\"Tree Depth\")\n",
    "plt.ylabel(\"Scores\")\n",
    "plt.plot(Results.iloc[:,2], \"purple\")\n",
    "plt.plot(Results.iloc[:,3], \"red\")\n",
    "plt.legend([\"Test\",\"Train\"])\n",
    "plt.show()"
   ]
  },
  {
   "cell_type": "code",
   "execution_count": 227,
   "metadata": {},
   "outputs": [
    {
     "data": {
      "text/plain": [
       "0.96351674641148322"
      ]
     },
     "execution_count": 227,
     "metadata": {},
     "output_type": "execute_result"
    }
   ],
   "source": [
    "clfT = DecisionTreeClassifier(max_depth=17)\n",
    "clfT.fit(Xtr,Ytr)\n",
    "clfT.score(Xtst,Ytst)"
   ]
  },
  {
   "cell_type": "markdown",
   "metadata": {},
   "source": [
    "### Conclusion\n",
    "\n",
    "- Diverse algorithms were learned in order to classify Ham/Spam documents.\n",
    "- Pre-processsing of text data was implemented on SMS documents:\n",
    "    - Extracting meaningful words for spam data represented a critical step; it reduced the calculation time in a factor about 300 and represented a slight improve (0.20%) in final score on Test Data\n",
    "- Crossvalidation and paremeter tuning were performed on the algorithms bellow (highest to lowest score on test data):\n",
    "\n",
    "        D3 Data Set:\n",
    "            a) SVM (C= 5), Score: 84.79%\n",
    "        \n",
    "        D2 Data Set:\n",
    "        \n",
    "          No Word optimization\n",
    "            a) SVM (C=47.5), Score: 96.88%\n",
    "                Time Whole test= 12 hours\n",
    "            \n",
    "          After Word Optimization\n",
    "            a) SVM (C = 17), Score: 97.00%\n",
    "                T test = 2 mins\n",
    "            b) Logistic Regression, Score: 96.65%\n",
    "                T test = 0.23 secs\n",
    "            c) Tree (Depth 17), Score: 96.35%\n",
    "                T test = 2 mins\n",
    "    \n",
    "    - "
   ]
  }
 ],
 "metadata": {
  "kernelspec": {
   "display_name": "Python 3",
   "language": "python",
   "name": "python3"
  },
  "language_info": {
   "codemirror_mode": {
    "name": "ipython",
    "version": 3
   },
   "file_extension": ".py",
   "mimetype": "text/x-python",
   "name": "python",
   "nbconvert_exporter": "python",
   "pygments_lexer": "ipython3",
   "version": "3.6.4"
  }
 },
 "nbformat": 4,
 "nbformat_minor": 2
}
