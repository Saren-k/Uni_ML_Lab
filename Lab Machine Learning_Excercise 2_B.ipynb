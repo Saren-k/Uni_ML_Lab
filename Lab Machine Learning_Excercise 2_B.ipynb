{
 "cells": [
  {
   "cell_type": "markdown",
   "metadata": {},
   "source": [
    "## Exercise 2: Linear Regression via Normal Equations (10 Points)\n",
    "In this exercise you will implement (multiple) linear regression using \n",
    "Normal Equations. See lecture (slides: 2-15) ml-02-A1-linear-reg.\n",
    "The learning algorithm is given on the slide 9.\n",
    "\n",
    "### 1. Download the dataset http://jgscott.github.io/teaching/r/house/house.csv\n",
    "Load it as Xdata  [Hint:] from loaded data you need to separate ydata i.e. sales prices of houses,  which is your target."
   ]
  },
  {
   "cell_type": "code",
   "execution_count": 1,
   "metadata": {},
   "outputs": [],
   "source": [
    "import pandas as pd\n",
    "import numpy as np\n",
    "import matplotlib.pyplot as plt\n",
    "\n",
    "#Titles home nbhd offers sqft brick bedroms bathrooms\n",
    "data = pd.read_csv('http://jgscott.github.io/teaching/r/house/house.csv', index_col=0)\n",
    "f = data"
   ]
  },
  {
   "cell_type": "code",
   "execution_count": 5,
   "metadata": {},
   "outputs": [
    {
     "data": {
      "text/html": [
       "<div>\n",
       "<style>\n",
       "    .dataframe thead tr:only-child th {\n",
       "        text-align: right;\n",
       "    }\n",
       "\n",
       "    .dataframe thead th {\n",
       "        text-align: left;\n",
       "    }\n",
       "\n",
       "    .dataframe tbody tr th {\n",
       "        vertical-align: top;\n",
       "    }\n",
       "</style>\n",
       "<table border=\"1\" class=\"dataframe\">\n",
       "  <thead>\n",
       "    <tr style=\"text-align: right;\">\n",
       "      <th></th>\n",
       "      <th>nbhd</th>\n",
       "      <th>offers</th>\n",
       "      <th>sqft</th>\n",
       "      <th>brick</th>\n",
       "      <th>bedrooms</th>\n",
       "      <th>bathrooms</th>\n",
       "      <th>price</th>\n",
       "    </tr>\n",
       "    <tr>\n",
       "      <th>home</th>\n",
       "      <th></th>\n",
       "      <th></th>\n",
       "      <th></th>\n",
       "      <th></th>\n",
       "      <th></th>\n",
       "      <th></th>\n",
       "      <th></th>\n",
       "    </tr>\n",
       "  </thead>\n",
       "  <tbody>\n",
       "    <tr>\n",
       "      <th>1</th>\n",
       "      <td>nbhd02</td>\n",
       "      <td>2</td>\n",
       "      <td>1790</td>\n",
       "      <td>No</td>\n",
       "      <td>2</td>\n",
       "      <td>2</td>\n",
       "      <td>114300</td>\n",
       "    </tr>\n",
       "    <tr>\n",
       "      <th>2</th>\n",
       "      <td>nbhd02</td>\n",
       "      <td>3</td>\n",
       "      <td>2030</td>\n",
       "      <td>No</td>\n",
       "      <td>4</td>\n",
       "      <td>2</td>\n",
       "      <td>114200</td>\n",
       "    </tr>\n",
       "    <tr>\n",
       "      <th>3</th>\n",
       "      <td>nbhd02</td>\n",
       "      <td>1</td>\n",
       "      <td>1740</td>\n",
       "      <td>No</td>\n",
       "      <td>3</td>\n",
       "      <td>2</td>\n",
       "      <td>114800</td>\n",
       "    </tr>\n",
       "    <tr>\n",
       "      <th>4</th>\n",
       "      <td>nbhd02</td>\n",
       "      <td>3</td>\n",
       "      <td>1980</td>\n",
       "      <td>No</td>\n",
       "      <td>3</td>\n",
       "      <td>2</td>\n",
       "      <td>94700</td>\n",
       "    </tr>\n",
       "    <tr>\n",
       "      <th>5</th>\n",
       "      <td>nbhd02</td>\n",
       "      <td>3</td>\n",
       "      <td>2130</td>\n",
       "      <td>No</td>\n",
       "      <td>3</td>\n",
       "      <td>3</td>\n",
       "      <td>119800</td>\n",
       "    </tr>\n",
       "  </tbody>\n",
       "</table>\n",
       "</div>"
      ],
      "text/plain": [
       "        nbhd  offers  sqft brick  bedrooms  bathrooms   price\n",
       "home                                                         \n",
       "1     nbhd02       2  1790    No         2          2  114300\n",
       "2     nbhd02       3  2030    No         4          2  114200\n",
       "3     nbhd02       1  1740    No         3          2  114800\n",
       "4     nbhd02       3  1980    No         3          2   94700\n",
       "5     nbhd02       3  2130    No         3          3  119800"
      ]
     },
     "execution_count": 5,
     "metadata": {},
     "output_type": "execute_result"
    }
   ],
   "source": [
    "f.head()"
   ]
  },
  {
   "cell_type": "markdown",
   "metadata": {},
   "source": [
    "### 2. Choose those columns, which can help you in prediction i.e. contain some useful information. \n",
    "You can drop irrelevant columns. Give reason for choosing or dropping any column.\n",
    "\n",
    "### 3. Split your dataset Xdata, ydata into Xtrain , ydata and Xtest , ytest \n",
    "You can randomly assign 80% of the data to a Xtrain , ytrain set and remaining\n",
    "20% to a Xtest , ytest set."
   ]
  },
  {
   "cell_type": "code",
   "execution_count": 5,
   "metadata": {},
   "outputs": [],
   "source": [
    "msk = np.random.rand(len(f)) < 0.8  #Random assign\n",
    "train = f[msk]\n",
    "test = f[~msk]\n",
    "\n",
    "Xtrain = np.array([train['sqft'], train['bedrooms'], train['bathrooms']]).T\n",
    "Xtest  = np.array([test['sqft'], test['bedrooms'], test['bathrooms']]).T\n",
    "Ytrain = np.array([train['price']]).T\n",
    "Ytest  = np.array([test['price']]).T"
   ]
  },
  {
   "cell_type": "markdown",
   "metadata": {},
   "source": [
    "### 4. Implement learn-linreg-NormEq algorithm and learn a parameter vector β  using Xtrain set. \n",
    "You have to learn a model to predict sales price of houses i.e. , ytest .\n",
    "\n",
    "####                      Linear Regresion using Normal Equations\n",
    "<img src =\"LinREgNormalEq.png\"/>"
   ]
  },
  {
   "cell_type": "code",
   "execution_count": 6,
   "metadata": {},
   "outputs": [
    {
     "name": "stdout",
     "output_type": "stream",
     "text": [
      "XtX is:\n",
      "[[  4.33053400e+08   6.60750000e+05   5.34360000e+05   2.14080000e+05]\n",
      " [  6.60750000e+05   1.05400000e+03   8.22000000e+02   3.26000000e+02]\n",
      " [  5.34360000e+05   8.22000000e+02   6.80000000e+02   2.64000000e+02]\n",
      " [  2.14080000e+05   3.26000000e+02   2.64000000e+02   1.07000000e+02]]\n",
      "XtY is:\n",
      "[[  2.87354260e+10]\n",
      " [  4.43829000e+07]\n",
      " [  3.57590000e+07]\n",
      " [  1.41750000e+07]]\n",
      "Values of betas are:\n",
      "[[    46.82653003]\n",
      " [  9843.01350333]\n",
      " [ 11270.32982321]\n",
      " [-19007.59835313]]\n"
     ]
    }
   ],
   "source": [
    "A = np.vstack([Xtrain.T, np.ones(len(Xtrain))]).T\n",
    "XtX = np.dot(A.T,A)\n",
    "XtY = np.dot(A.T,Ytrain)\n",
    "Betas = np.dot(np.linalg.inv(XtX),XtY)\n",
    "print (\"XtX is:\")\n",
    "print (XtX)\n",
    "print (\"XtY is:\")\n",
    "print (XtY)\n",
    "print( \"Values of betas are:\")\n",
    "print (Betas)"
   ]
  },
  {
   "cell_type": "markdown",
   "metadata": {},
   "source": [
    "### 5. Line 6, in learn-linreg-NormEq uses SOLVE-SLE. You have to replace SOLVE-SLE following options. For each option you will learn a separate set of parameters.\n",
    "    (a) Gaussian elimination\n",
    "    (b) Cholesky decomposition\n",
    "    (c) QR decomposition"
   ]
  },
  {
   "cell_type": "markdown",
   "metadata": {},
   "source": [
    "### Gaussian Elimination"
   ]
  },
  {
   "cell_type": "code",
   "execution_count": 8,
   "metadata": {},
   "outputs": [
    {
     "name": "stdout",
     "output_type": "stream",
     "text": [
      "Betas from Gauss method are:\n",
      "[[    46.82653003]\n",
      " [  9843.01350333]\n",
      " [ 11270.32982321]\n",
      " [-19007.59835313]]\n"
     ]
    }
   ],
   "source": [
    "#The method of np.linalg.solve(), uses gaussian elimination\n",
    "GaussBetas = np.linalg.lstsq(A, Ytrain)[0]\n",
    "print (\"Betas from Gauss method are:\")\n",
    "print (GaussBetas)             "
   ]
  },
  {
   "cell_type": "markdown",
   "metadata": {},
   "source": [
    "### QR Decomposition"
   ]
  },
  {
   "cell_type": "code",
   "execution_count": 9,
   "metadata": {},
   "outputs": [
    {
     "name": "stdout",
     "output_type": "stream",
     "text": [
      "q Matrix is:\n",
      "[[ -9.99997952e-01   1.68072679e-03   1.00033123e-03  -5.19136329e-04]\n",
      " [ -1.52579023e-03  -9.89457692e-01   1.44183247e-01   1.35033112e-02]\n",
      " [ -1.23393306e-03  -1.44147920e-01  -9.89549442e-01   3.42885946e-03]\n",
      " [ -4.94349107e-04   1.38574374e-02   1.44673462e-03   9.99902812e-01]]\n",
      "r Matrix is:\n",
      "[[ -4.33054287e+08  -6.60751431e+05  -5.34361130e+05  -2.14080438e+05]\n",
      " [  0.00000000e+00  -4.63202443e+01  -9.58327566e+00   6.74479245e-01]\n",
      " [  0.00000000e+00   0.00000000e+00  -1.94560549e+01   6.83972179e-02]\n",
      " [  0.00000000e+00   0.00000000e+00   0.00000000e+00   1.16019398e+00]]\n",
      "Betas of QR method are:\n",
      "[[    46.82653003]\n",
      " [  9843.01350333]\n",
      " [ 11270.32982321]\n",
      " [-19007.59835313]]\n"
     ]
    }
   ],
   "source": [
    "# QR Decomposition\n",
    "q, r = np.linalg.qr(XtX)\n",
    "s1 = np.dot(q.T,XtY)\n",
    "BetasQR = np.dot(np.linalg.inv(r),s1)\n",
    "\n",
    "print('q Matrix is:')\n",
    "print(q)\n",
    "print('r Matrix is:')\n",
    "print(r)\n",
    "print('Betas of QR method are:')\n",
    "print(BetasQR)"
   ]
  },
  {
   "cell_type": "markdown",
   "metadata": {},
   "source": [
    "## Cholesky"
   ]
  },
  {
   "cell_type": "code",
   "execution_count": 11,
   "metadata": {},
   "outputs": [
    {
     "name": "stdout",
     "output_type": "stream",
     "text": [
      "[[    46.82653003]\n",
      " [  9843.01350333]\n",
      " [ 11270.32982321]\n",
      " [-19007.59835313]]\n"
     ]
    }
   ],
   "source": [
    "L = np.linalg.cholesky(XtX)\n",
    "Y1 = np.dot(np.linalg.inv(L),XtY)\n",
    "BetasCholesky = np.dot(np.linalg.inv(L.T),Y1)\n",
    "print (BetasCholesky)"
   ]
  },
  {
   "cell_type": "code",
   "execution_count": 12,
   "metadata": {},
   "outputs": [
    {
     "name": "stdout",
     "output_type": "stream",
     "text": [
      "RMSE = 18273.17348\n"
     ]
    },
    {
     "data": {
      "image/png": "[encoded data removed]",
      "text/plain": [
       "<matplotlib.figure.Figure at 0x7fbe93162ba8>"
      ]
     },
     "metadata": {},
     "output_type": "display_data"
    }
   ],
   "source": [
    "Atest = np.vstack([Xtest.T, np.ones(len(Xtest))]).T\n",
    "RMSE =(np.sum((Ytest - np.dot(Atest,np.linalg.lstsq(Atest, Ytest)[0]))**2)/len(Ytest))**0.5\n",
    "print (\"RMSE =\", RMSE)\n",
    "plt.stem(Ytest - np.dot(Atest,np.linalg.lstsq(Atest, Ytest)[0]), '')\n",
    "plt.show()"
   ]
  }
 ],
 "metadata": {
  "kernelspec": {
   "display_name": "Python 3",
   "language": "python",
   "name": "python3"
  },
  "language_info": {
   "codemirror_mode": {
    "name": "ipython",
    "version": 3
   },
   "file_extension": ".py",
   "mimetype": "text/x-python",
   "name": "python",
   "nbconvert_exporter": "python",
   "pygments_lexer": "ipython3",
   "version": "3.6.3"
  }
 },
 "nbformat": 4,
 "nbformat_minor": 2
}
