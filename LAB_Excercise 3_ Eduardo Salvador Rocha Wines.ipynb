{
 "cells": [
  {
   "cell_type": "markdown",
   "metadata": {},
   "source": [
    "# Lab Course Machine Learning\n",
    "## Exercise Sheet 3\n",
    "### Prof. Dr. Dr. Lars Schmidt-Thieme, Hadi Samer Jomaa\n",
    "Information Systems and Machine Learning Lab\n",
    "University of Hildesheim\n",
    "November 13th, 2017\n",
    "Submission on November 20th, 2017 at 8:00 am, (on moodle, course code 3113)\n",
    "\n",
    "## Exercise 1: Data preprocessing (5 Points)\n",
    "You are required to pre-process given datasets.\n",
    "1.  Convert any non-numeric values to numeric values.  For example you can replace a country name with an integer value or more appropriately use hot-one encoding.   [Hint:  use hashmap (dict) or pandas.get_dummies]. Please explain your solution.\n",
    "2.  If required drop out the rows with missing values or NA. In next lectures we will handle sparse data, which will allow us to use records with missing values.\n",
    "3.  Split the data into a train(80%) and test(20%)"
   ]
  },
  {
   "cell_type": "code",
   "execution_count": 8,
   "metadata": {},
   "outputs": [],
   "source": [
    "import numpy as np\n",
    "import pandas as pd\n",
    "import matplotlib.pyplot as plt\n",
    "\n",
    "RWn = pd.read_table(\"http://archive.ics.uci.edu/ml/machine-learning-databases/wine-quality/winequality-red.csv\",sep=\";\")\n",
    "WWn = pd.read_table(\"http://archive.ics.uci.edu/ml/machine-learning-databases/wine-quality/winequality-white.csv\",sep=\";\")\n",
    "msk = np.random.rand(len(RWn)) < 0.8  #Random assign\n",
    "tr = RWn[msk]\n",
    "tst = RWn[~msk]\n",
    "\n"
   ]
  },
  {
   "cell_type": "markdown",
   "metadata": {},
   "source": [
    "   The two datasets are related to red and white variants of the Portuguese \"Vinho Verde\" wine.\n",
    "   For more details, consult: http://www.vinhoverde.pt/en/ or the reference [Cortez et al., 2009].\n",
    "   Due to privacy and logistic issues, only physicochemical (inputs) and sensory (the output) variables \n",
    "   are available (e.g. there is no data about grape types, wine brand, wine selling price, etc.).\n",
    "\n",
    "   The classes are ordered and not balanced (e.g. there are munch more normal wines than\n",
    "   excellent or poor ones). Outlier detection algorithms could be used to detect the few excellent\n",
    "   or poor wines. Also, we are not sure if all input variables are relevant. So\n",
    "   it could be interesting to test feature selection methods. \n"
   ]
  },
  {
   "cell_type": "code",
   "execution_count": 11,
   "metadata": {},
   "outputs": [
    {
     "data": {
      "text/html": [
       "<div>\n",
       "<style scoped>\n",
       "    .dataframe tbody tr th:only-of-type {\n",
       "        vertical-align: middle;\n",
       "    }\n",
       "\n",
       "    .dataframe tbody tr th {\n",
       "        vertical-align: top;\n",
       "    }\n",
       "\n",
       "    .dataframe thead th {\n",
       "        text-align: right;\n",
       "    }\n",
       "</style>\n",
       "<table border=\"1\" class=\"dataframe\">\n",
       "  <thead>\n",
       "    <tr style=\"text-align: right;\">\n",
       "      <th></th>\n",
       "      <th>fixed acidity</th>\n",
       "      <th>volatile acidity</th>\n",
       "      <th>citric acid</th>\n",
       "      <th>residual sugar</th>\n",
       "      <th>chlorides</th>\n",
       "      <th>free sulfur dioxide</th>\n",
       "      <th>total sulfur dioxide</th>\n",
       "      <th>density</th>\n",
       "      <th>pH</th>\n",
       "      <th>sulphates</th>\n",
       "      <th>alcohol</th>\n",
       "      <th>quality</th>\n",
       "    </tr>\n",
       "  </thead>\n",
       "  <tbody>\n",
       "    <tr>\n",
       "      <th>0</th>\n",
       "      <td>7.4</td>\n",
       "      <td>0.70</td>\n",
       "      <td>0.00</td>\n",
       "      <td>1.9</td>\n",
       "      <td>0.076</td>\n",
       "      <td>11.0</td>\n",
       "      <td>34.0</td>\n",
       "      <td>0.9978</td>\n",
       "      <td>3.51</td>\n",
       "      <td>0.56</td>\n",
       "      <td>9.4</td>\n",
       "      <td>5</td>\n",
       "    </tr>\n",
       "    <tr>\n",
       "      <th>1</th>\n",
       "      <td>7.8</td>\n",
       "      <td>0.88</td>\n",
       "      <td>0.00</td>\n",
       "      <td>2.6</td>\n",
       "      <td>0.098</td>\n",
       "      <td>25.0</td>\n",
       "      <td>67.0</td>\n",
       "      <td>0.9968</td>\n",
       "      <td>3.20</td>\n",
       "      <td>0.68</td>\n",
       "      <td>9.8</td>\n",
       "      <td>5</td>\n",
       "    </tr>\n",
       "    <tr>\n",
       "      <th>2</th>\n",
       "      <td>7.8</td>\n",
       "      <td>0.76</td>\n",
       "      <td>0.04</td>\n",
       "      <td>2.3</td>\n",
       "      <td>0.092</td>\n",
       "      <td>15.0</td>\n",
       "      <td>54.0</td>\n",
       "      <td>0.9970</td>\n",
       "      <td>3.26</td>\n",
       "      <td>0.65</td>\n",
       "      <td>9.8</td>\n",
       "      <td>5</td>\n",
       "    </tr>\n",
       "    <tr>\n",
       "      <th>3</th>\n",
       "      <td>11.2</td>\n",
       "      <td>0.28</td>\n",
       "      <td>0.56</td>\n",
       "      <td>1.9</td>\n",
       "      <td>0.075</td>\n",
       "      <td>17.0</td>\n",
       "      <td>60.0</td>\n",
       "      <td>0.9980</td>\n",
       "      <td>3.16</td>\n",
       "      <td>0.58</td>\n",
       "      <td>9.8</td>\n",
       "      <td>6</td>\n",
       "    </tr>\n",
       "    <tr>\n",
       "      <th>4</th>\n",
       "      <td>7.4</td>\n",
       "      <td>0.70</td>\n",
       "      <td>0.00</td>\n",
       "      <td>1.9</td>\n",
       "      <td>0.076</td>\n",
       "      <td>11.0</td>\n",
       "      <td>34.0</td>\n",
       "      <td>0.9978</td>\n",
       "      <td>3.51</td>\n",
       "      <td>0.56</td>\n",
       "      <td>9.4</td>\n",
       "      <td>5</td>\n",
       "    </tr>\n",
       "  </tbody>\n",
       "</table>\n",
       "</div>"
      ],
      "text/plain": [
       "   fixed acidity  volatile acidity  citric acid  residual sugar  chlorides  \\\n",
       "0            7.4              0.70         0.00             1.9      0.076   \n",
       "1            7.8              0.88         0.00             2.6      0.098   \n",
       "2            7.8              0.76         0.04             2.3      0.092   \n",
       "3           11.2              0.28         0.56             1.9      0.075   \n",
       "4            7.4              0.70         0.00             1.9      0.076   \n",
       "\n",
       "   free sulfur dioxide  total sulfur dioxide  density    pH  sulphates  \\\n",
       "0                 11.0                  34.0   0.9978  3.51       0.56   \n",
       "1                 25.0                  67.0   0.9968  3.20       0.68   \n",
       "2                 15.0                  54.0   0.9970  3.26       0.65   \n",
       "3                 17.0                  60.0   0.9980  3.16       0.58   \n",
       "4                 11.0                  34.0   0.9978  3.51       0.56   \n",
       "\n",
       "   alcohol  quality  \n",
       "0      9.4        5  \n",
       "1      9.8        5  \n",
       "2      9.8        5  \n",
       "3      9.8        6  \n",
       "4      9.4        5  "
      ]
     },
     "execution_count": 11,
     "metadata": {},
     "output_type": "execute_result"
    }
   ],
   "source": [
    "RWn.head()"
   ]
  },
  {
   "cell_type": "markdown",
   "metadata": {},
   "source": [
    "##### For this excercise all the values are numerical, usage of dummies not required\n",
    "\n",
    "##### Modeling variables choosen (x's):\n",
    "1. Free sulfur dioxide\n",
    "2. Total sulfur dioxide\n",
    "3. Residual Sugar\n",
    "4. Fixed Acidity\n",
    "5. Alcohol\n",
    "\n",
    "\n",
    "##### Dependent variable (y):\n",
    "\n",
    "1. Wine Quality\n"
   ]
  },
  {
   "cell_type": "code",
   "execution_count": 16,
   "metadata": {},
   "outputs": [],
   "source": [
    "Xtr = np.array([tr[\"free sulfur dioxide\"], tr[\"total sulfur dioxide\"], tr[\"residual sugar\"], tr[\"fixed acidity\"], tr.alcohol]).T\n",
    "Xtst = np.array([tst[\"free sulfur dioxide\"], tst[\"total sulfur dioxide\"], tst[\"residual sugar\"], tst[\"fixed acidity\"], tst.alcohol]).T\n",
    "Ytr = np.array([tr.quality]).T\n",
    "Ytst  = np.array([tst.quality]).T\n",
    "A = np.vstack([Xtr.T, np.ones(len(Xtr))]).T\n"
   ]
  },
  {
   "cell_type": "markdown",
   "metadata": {},
   "source": [
    "### Exercise 2: Linear Regression with Gradient Descent (15 Points)\n",
    "#### Part A: (8 Points): Implement Linear Regression with Gradient Descent\n",
    "In this part you are required\n",
    "to implement linear regression algorithm with gradient descent algorithm.  Reference lecture\n",
    "https://\n",
    "www.ismll.uni-hildesheim.de/lehre/ml-16w/script/ml-02-A1-linear-regression.\n",
    "pdf\n",
    "For each dataset given above\n",
    "1.  A set of training data Dtrain={(x(1),y(1)),(x(2),y(2)),...,(x(N),y(N))}, wherex∈RM,y∈R,Nis number of training examples andMis number of features\n",
    "2.  Linear Regression model is given as ŷn= ∑βmxm\n",
    "3.  Least square loss function is given as l(x,y) = ∑(y − ŷ)² \n",
    "4.  Minimize the loss function l(x,y) using Gradient Descent algorithm. Implement (learn-linregGD and minimize-GD algorithms given in the lecture slides). Choose i max between 100 to 1000.\n",
    "\n",
    "5. You can choose three suitable values of step length α > 0 . For each value of step length perform the learning and record.\n",
    "\n",
    "    (a)  In each iteration of the minimize-GD algorithm calculate |f(xi−1) − f(xi)| and at the end of learning, plot it against iteration number i. Explain the graph. \n",
    "    \n",
    "    (b)  In each iteration step also calculate RMSE, and at the end of learning plot it against iteration number i. Explain the graph."
   ]
  },
  {
   "cell_type": "markdown",
   "metadata": {},
   "source": [
    "<img src =\"GDEq.png\"/>"
   ]
  },
  {
   "cell_type": "markdown",
   "metadata": {},
   "source": [
    "##### Number of iterations = 500   \n",
    "###### Alpha choosen = 1e-7, 1e-8, 1e-10 (Higher than 1e-7 the algorithm diverges)\n",
    "###### |f(xi−1) − f(xi)| vs i , and RSME vs i\n",
    "In both graphs are shown two types of error, calcularet for each iteration, and in both cases the behaviour is equial. These plots show how each iteration minimize each Error, related to a level of Beta(i) vs Beta(i-1) assuring that the value of Betas is improved in each time. Using a smalle value of alpha, also show a slower (smaller) slope, thus taking a higher amount of iteration to achieve the same results as the one using a higher alpha\n",
    "\n",
    "\n",
    "\n"
   ]
  },
  {
   "cell_type": "code",
   "execution_count": 20,
   "metadata": {},
   "outputs": [],
   "source": [
    "def LearnLinearRegGD(NumOfIterations,Alpha):\n",
    "    A = np.vstack([Xtr.T, np.ones(len(Xtr))]).T\n",
    "    Ytr = np.array([tr.quality]).T\n",
    "    B1 = np.array([[0,0,0,0,0,0]]) #Inizialization\n",
    "    B = B1.T\n",
    "    print(\"Initial value of B is\")\n",
    "    print(B)\n",
    "    print(\"\")\n",
    "    n= 0 #Controler\n",
    "    ALV = []\n",
    "    ALV2 = []\n",
    "    while n< NumOfIterations:\n",
    "        Error = (np.dot(A,B) - Ytr)\n",
    "        Bn = B- Alpha*np.dot(A.T,Error) #Bn Stand for \"The next set of Betas\"\n",
    "        A2 = np.sum(np.abs(np.dot(A,B)-np.dot(A,Bn)))\n",
    "        ALV2.append(A2)\n",
    "        B = np.array(Bn) #The previous value of B is substitued by the new Bn\n",
    "        A1 = (np.sum(Error**2)/len(Error))**0.5\n",
    "        ALV.append(A1)\n",
    "        if n<10:\n",
    "            if n== 0:\n",
    "                print(\"Bellow are showed only the Squared error of the first 10 Iterations\")\n",
    "                print(\"The initial squared error is\",A1)\n",
    "            else:\n",
    "                print(\"Squared error ot iteration#\",n,\"is: \",A1)\n",
    "        n = n+1\n",
    "    else:\n",
    "        print(\"...\")\n",
    "        print(\"Final Squared error of iteration \",n,\"is\",A1)\n",
    "        print(B)\n",
    "        plt.plot(ALV)\n",
    "        plt.xlabel(\"Iterations\")\n",
    "        plt.ylabel(\"SQME\")\n",
    "        plt.title(\"SQMError vs Iterations\")\n",
    "        plt.show()\n",
    "        plt.plot(ALV2)\n",
    "        plt.xlabel(\"Iterations\")\n",
    "        plt.ylabel(\"|X-1 - Xi|\")\n",
    "        plt.title(\"Error vs Iterations\")\n",
    "        plt.show()"
   ]
  },
  {
   "cell_type": "code",
   "execution_count": 27,
   "metadata": {},
   "outputs": [
    {
     "name": "stdout",
     "output_type": "stream",
     "text": [
      "Initial value of B is\n",
      "[[0]\n",
      " [0]\n",
      " [0]\n",
      " [0]\n",
      " [0]\n",
      " [0]]\n",
      "\n",
      "Bellow are showed only the Squared error of the first 10 Iterations\n",
      "The initial squared error is 5.69110502083\n",
      "Squared error ot iteration# 1 is:  4.04215411965\n",
      "Squared error ot iteration# 2 is:  3.45031793499\n",
      "Squared error ot iteration# 3 is:  3.25377561683\n",
      "Squared error ot iteration# 4 is:  3.17923572606\n",
      "Squared error ot iteration# 5 is:  3.13930092701\n",
      "Squared error ot iteration# 6 is:  3.10905504957\n",
      "Squared error ot iteration# 7 is:  3.08165565597\n",
      "Squared error ot iteration# 8 is:  3.05524228798\n",
      "Squared error ot iteration# 9 is:  3.02930888145\n",
      "...\n",
      "Final Squared error of iteration  500 is 0.758058057153\n",
      "[[ 0.02508689]\n",
      " [-0.00423173]\n",
      " [ 0.0515833 ]\n",
      " [ 0.22871768]\n",
      " [ 0.31767378]\n",
      " [ 0.02887031]]\n"
     ]
    },
    {
     "data": {
      "image/png": "[encoded data removed]",
      "text/plain": [
       "<matplotlib.figure.Figure at 0x7f33ee2efe80>"
      ]
     },
     "metadata": {},
     "output_type": "display_data"
    },
    {
     "data": {
      "image/png": "[encoded data removed]",
      "text/plain": [
       "<matplotlib.figure.Figure at 0x7f33ee369ef0>"
      ]
     },
     "metadata": {},
     "output_type": "display_data"
    }
   ],
   "source": [
    "LearnLinearRegGD(500,1e-7)"
   ]
  },
  {
   "cell_type": "code",
   "execution_count": 28,
   "metadata": {},
   "outputs": [
    {
     "name": "stdout",
     "output_type": "stream",
     "text": [
      "Initial value of B is\n",
      "[[0]\n",
      " [0]\n",
      " [0]\n",
      " [0]\n",
      " [0]\n",
      " [0]]\n",
      "\n",
      "Bellow are showed only the Squared error of the first 10 Iterations\n",
      "The initial squared error is 5.69110502083\n",
      "Squared error ot iteration# 1 is:  5.50726607845\n",
      "Squared error ot iteration# 2 is:  5.335104072\n",
      "Squared error ot iteration# 3 is:  5.17403822893\n",
      "Squared error ot iteration# 4 is:  5.02350642531\n",
      "Squared error ot iteration# 5 is:  4.88296433025\n",
      "Squared error ot iteration# 6 is:  4.75188473037\n",
      "Squared error ot iteration# 7 is:  4.62975702569\n",
      "Squared error ot iteration# 8 is:  4.51608688424\n",
      "Squared error ot iteration# 9 is:  4.41039603844\n",
      "...\n",
      "Final Squared error of iteration  500 is 2.19045441411\n",
      "[[ 0.05513351]\n",
      " [ 0.03635856]\n",
      " [ 0.02192395]\n",
      " [ 0.08752513]\n",
      " [ 0.11060592]\n",
      " [ 0.01014416]]\n"
     ]
    },
    {
     "data": {
      "image/png": "[encoded data removed]",
      "text/plain": [
       "<matplotlib.figure.Figure at 0x7f33ee369908>"
      ]
     },
     "metadata": {},
     "output_type": "display_data"
    },
    {
     "data": {
      "image/png": "[encoded data removed]",
      "text/plain": [
       "<matplotlib.figure.Figure at 0x7f33ee362d68>"
      ]
     },
     "metadata": {},
     "output_type": "display_data"
    }
   ],
   "source": [
    "LearnLinearRegGD(500,1e-8)"
   ]
  },
  {
   "cell_type": "code",
   "execution_count": 29,
   "metadata": {},
   "outputs": [
    {
     "name": "stdout",
     "output_type": "stream",
     "text": [
      "Initial value of B is\n",
      "[[0]\n",
      " [0]\n",
      " [0]\n",
      " [0]\n",
      " [0]\n",
      " [0]]\n",
      "\n",
      "Bellow are showed only the Squared error of the first 10 Iterations\n",
      "The initial squared error is 5.69110502083\n",
      "Squared error ot iteration# 1 is:  5.68184361248\n",
      "Squared error ot iteration# 2 is:  5.67261141321\n",
      "Squared error ot iteration# 3 is:  5.66340835204\n",
      "Squared error ot iteration# 4 is:  5.65423435811\n",
      "Squared error ot iteration# 5 is:  5.6450893607\n",
      "Squared error ot iteration# 6 is:  5.63597328919\n",
      "Squared error ot iteration# 7 is:  5.62688607307\n",
      "Squared error ot iteration# 8 is:  5.61782764198\n",
      "Squared error ot iteration# 9 is:  5.60879792563\n",
      "...\n",
      "Final Squared error of iteration  500 is 3.49415783677\n",
      "[[ 0.01797287]\n",
      " [ 0.04813715]\n",
      " [ 0.00320877]\n",
      " [ 0.01092918]\n",
      " [ 0.01373224]\n",
      " [ 0.00129919]]\n"
     ]
    },
    {
     "data": {
      "image/png": "[encoded data removed]",
      "text/plain": [
       "<matplotlib.figure.Figure at 0x7f33ee3c2710>"
      ]
     },
     "metadata": {},
     "output_type": "display_data"
    },
    {
     "data": {
      "image/png": "[encoded data removed]",
      "text/plain": [
       "<matplotlib.figure.Figure at 0x7f33ee3a7a20>"
      ]
     },
     "metadata": {},
     "output_type": "display_data"
    }
   ],
   "source": [
    "LearnLinearRegGD(500,5e-10)"
   ]
  },
  {
   "cell_type": "markdown",
   "metadata": {},
   "source": [
    "### Part B: (7 Points): Step Length for Gradient Descent\n",
    "This  task  is  based  on  Part  A.  \n",
    "\n",
    "You  have  to implement two algorithms steplength-armijo and step-length bold driver given in the lecture slides. \n",
    "\n",
    "#### For each step length Algorithm:\n",
    "\n",
    "1.  In each iteration of the minimize-GD algorithm calculate |f(xi−1) − f(xi)| and at the end of learning, plot it against iteration number i . Explain the graph. \n",
    "\n",
    "2.  In each iteration step also calculate RMSE on test and at the end of learning, plot it against iteration number i . Explain the graph. \n",
    "\n",
    "3. Compare the RMSE graphs of steplength-armijo and steplengthbolddriver and the three fixed step length. Explain your graph"
   ]
  },
  {
   "cell_type": "markdown",
   "metadata": {},
   "source": [
    "<img src =\"ARMJ.png\"/>"
   ]
  },
  {
   "cell_type": "code",
   "execution_count": 30,
   "metadata": {},
   "outputs": [],
   "source": [
    "def Armijo(Alpha,Delta): #Delta must be [0,1]!!!!\n",
    "    A = np.vstack([Xtr.T, np.ones(len(Xtr))]).T \n",
    "    Ytr = np.array([tr.quality]).T\n",
    "    B1 = np.array([[0,0,0,0,0,0]]) #x in the slide equation\n",
    "    B = B1.T\n",
    "    #Alpha= 1\n",
    "    Err = Ytr - np.dot(A,B)\n",
    "    Der = -2*Alpha*Delta*np.dot(A.T,Err)\n",
    "    D1 = np.dot(Err.T,Err) - np.dot(Der.T,Der)\n",
    "    Iz = np.dot((Ytr- np.dot(A,(B - Alpha*Der))).T,(Ytr- np.dot(A,(B - Alpha*Der))))\n",
    "    ALV3 = []\n",
    "    ALV4 = []\n",
    "    print(\"Alpha values descent:\")\n",
    "    while Iz > D1:\n",
    "        W1 = np.sum(Iz)\n",
    "        Alpha = Alpha/2\n",
    "        Der = -2*Alpha*Delta*np.dot(A.T,Err)\n",
    "        D1 = np.dot(Err.T,Err) - np.dot(Der.T,Der)\n",
    "        Iz = np.dot((Ytr- np.dot(A,(B - Alpha*Der))).T,(Ytr- np.dot(A,(B - Alpha*Der))))\n",
    "        W2 = np.sum(Iz)\n",
    "        ALV3.append(abs(W1-W2))\n",
    "        ALV4.append(np.sum(Iz))\n",
    "        print(Alpha)\n",
    "    else:\n",
    "        plt.plot(ALV3)\n",
    "        plt.xlabel(\"Iterations\")\n",
    "        plt.ylabel(\"|Xi-1 - Xi|\")\n",
    "        plt.title(\"Error vs Iterations\")\n",
    "        plt.show()\n",
    "        plt.plot(ALV4)\n",
    "        plt.xlabel(\"Iterations\")\n",
    "        plt.ylabel(\"SQME\")\n",
    "        plt.title(\"SQMError vs Iterations\")\n",
    "        plt.show()\n",
    "        print(\"Final value of Alpha is:\")\n",
    "        print(Alpha)"
   ]
  },
  {
   "cell_type": "code",
   "execution_count": 31,
   "metadata": {},
   "outputs": [
    {
     "name": "stdout",
     "output_type": "stream",
     "text": [
      "Alpha values descent:\n",
      "50.0\n",
      "25.0\n",
      "12.5\n",
      "6.25\n",
      "3.125\n",
      "1.5625\n",
      "0.78125\n",
      "0.390625\n",
      "0.1953125\n",
      "0.09765625\n",
      "0.048828125\n",
      "0.0244140625\n",
      "0.01220703125\n",
      "0.006103515625\n",
      "0.0030517578125\n",
      "0.00152587890625\n",
      "0.000762939453125\n",
      "0.0003814697265625\n",
      "0.00019073486328125\n",
      "9.5367431640625e-05\n",
      "4.76837158203125e-05\n",
      "2.384185791015625e-05\n",
      "1.1920928955078125e-05\n",
      "5.9604644775390625e-06\n",
      "2.9802322387695312e-06\n",
      "1.4901161193847656e-06\n",
      "7.450580596923828e-07\n",
      "3.725290298461914e-07\n",
      "1.862645149230957e-07\n",
      "9.313225746154785e-08\n",
      "4.6566128730773926e-08\n",
      "2.3283064365386963e-08\n",
      "1.1641532182693481e-08\n"
     ]
    },
    {
     "data": {
      "image/png": "[encoded data removed]",
      "text/plain": [
       "<matplotlib.figure.Figure at 0x7f33f075b518>"
      ]
     },
     "metadata": {},
     "output_type": "display_data"
    },
    {
     "data": {
      "image/png": "[encoded data removed]",
      "text/plain": [
       "<matplotlib.figure.Figure at 0x7f33ee3e5b38>"
      ]
     },
     "metadata": {},
     "output_type": "display_data"
    },
    {
     "name": "stdout",
     "output_type": "stream",
     "text": [
      "Final value of Alpha is:\n",
      "1.1641532182693481e-08\n"
     ]
    }
   ],
   "source": [
    "    Armijo(100,1)"
   ]
  },
  {
   "cell_type": "markdown",
   "metadata": {},
   "source": [
    "<img src =\"BLD.png\"/>\n"
   ]
  },
  {
   "cell_type": "code",
   "execution_count": 44,
   "metadata": {},
   "outputs": [],
   "source": [
    "def BoldDriver(Alpha,AlphaP,AlphaM): #AlphaM must be [0,1]\n",
    "    A = np.vstack([Xtr.T, np.ones(len(Xtr))]).T \n",
    "    Ytr = np.array([tr.quality]).T\n",
    "    B1 = np.array([[0,0,0,0,0,0]]) #x in the slide equation\n",
    "    B = B1.T\n",
    "    ALP = Alpha*AlphaP\n",
    "    Err = Ytr - np.dot(A,B)\n",
    "    Der = -2*ALP*np.dot(A.T,Err)\n",
    "    Iz = np.dot(Err.T,Err) - np.dot((Ytr- np.dot(A,(B - ALP*Der))).T,(Ytr- np.dot(A,(B - ALP*Der))))\n",
    "    ALV3 = []\n",
    "    ALV4 = []\n",
    "    print(\"Alpha values descent:\")\n",
    "    while Iz<0:\n",
    "        W1 = np.sum(Iz)\n",
    "        ALP = ALP*AlphaM\n",
    "        Der = -2*ALP*np.dot(A.T,Err)\n",
    "        D1 = np.dot(Err.T,Err) - np.dot(Der.T,Der)\n",
    "        Iz = np.dot((Ytr- np.dot(A,(B - Alpha*Der))).T,(Ytr- np.dot(A,(B - Alpha*Der))))\n",
    "        W2 = np.sum(Iz)\n",
    "        ALV3.append(abs(W1-W2))\n",
    "        ALV4.append(np.sum(Iz))\n",
    "        print(Iz)\n",
    "    else:\n",
    "        plt.plot(ALV3)\n",
    "        plt.xlabel(\"Iterations\")\n",
    "        plt.ylabel(\"|Xi-1 - Xi|\")\n",
    "        plt.title(\"Error vs Iterations\")\n",
    "        plt.show()\n",
    "        plt.plot(ALV4)\n",
    "        plt.xlabel(\"Iterations\")\n",
    "        plt.ylabel(\"SQME\")\n",
    "        plt.title(\"SQMError vs Iterations\")\n",
    "        plt.show()\n",
    "        print(\"Final value of Alpha is:\")\n",
    "        print(Alpha)"
   ]
  }
 ],
 "metadata": {
  "kernelspec": {
   "display_name": "Python 3",
   "language": "python",
   "name": "python3"
  },
  "language_info": {
   "codemirror_mode": {
    "name": "ipython",
    "version": 3
   },
   "file_extension": ".py",
   "mimetype": "text/x-python",
   "name": "python",
   "nbconvert_exporter": "python",
   "pygments_lexer": "ipython3",
   "version": "3.6.3"
  }
 },
 "nbformat": 4,
 "nbformat_minor": 2
}
