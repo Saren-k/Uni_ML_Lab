{
 "cells": [
  {
   "cell_type": "code",
   "execution_count": 8,
   "metadata": {},
   "outputs": [
    {
     "data": {
      "image/png": "[encoded data removed]",
      "text/plain": [
       "<matplotlib.figure.Figure at 0x7f6d3287d7b8>"
      ]
     },
     "metadata": {},
     "output_type": "display_data"
    },
    {
     "data": {
      "text/plain": [
       "array([[ 5.27272727],\n",
       "       [ 1.99976279],\n",
       "       [-1.27257632]])"
      ]
     },
     "execution_count": 8,
     "metadata": {},
     "output_type": "execute_result"
    }
   ],
   "source": [
    "import numpy as np\n",
    "import pandas as pd\n",
    "import matplotlib.pyplot as plt\n",
    "\n",
    "x = np.array([[1,5,1],[2,4,2],[3,3,3],[4,2,4],[5,1,5]])\n",
    "y = np.array([[14,16,18,20,22]]).T\n",
    "\n",
    "B = np.random.rand(len(x.T))\n",
    "\n",
    "def CD(x,y,Btr,i):\n",
    "    B = np.array([[0.0]]*len(x.T)) \n",
    "    MSE = []\n",
    "    for i in np.arange(i):\n",
    "        for b in np.arange(len(x.T)):\n",
    "            Error = np.sum((y-x.dot(B))**2)**0.5\n",
    "            B[b] = x[:,b].T.dot((y - np.delete(x,b,axis=1).dot(np.delete(B,b,axis=0))))/x[:,b].T.dot(x[:,b])\n",
    "            MSE.append(Error)\n",
    "    plt.plot(MSE,'-m')\n",
    "    plt.xlabel(\"Iterations\")\n",
    "    plt.ylabel(\"RMSE\")\n",
    "    plt.title(\"Coordinate Descent- OLS\")\n",
    "    plt.show()\n",
    "    return B\n",
    "\n",
    "Bl =CD(x,y,B,10)\n",
    "Bl"
   ]
  },
  {
   "cell_type": "code",
   "execution_count": 4,
   "metadata": {},
   "outputs": [
    {
     "data": {
      "image/png": "[encoded data removed]",
      "text/plain": [
       "<matplotlib.figure.Figure at 0x7f6d327def28>"
      ]
     },
     "metadata": {},
     "output_type": "display_data"
    }
   ],
   "source": [
    "def Soft(x,e):\n",
    "    if x>e:\n",
    "        value = x-e\n",
    "    else:\n",
    "        if abs(x)<=e:\n",
    "            value = 0\n",
    "        else:\n",
    "            if x<-1*e:\n",
    "                value = x+e\n",
    "    return value\n",
    "\n",
    "def ABS(L,e):\n",
    "    PL = []\n",
    "    for i in L:\n",
    "        v = Soft(i,e)\n",
    "        PL.append(v)\n",
    "    plt.plot(PL,'-r')\n",
    "    plt.show()\n",
    "\n",
    "L = np.linspace(-1,1,100)\n",
    "ABS(L,0.4)"
   ]
  },
  {
   "cell_type": "code",
   "execution_count": 5,
   "metadata": {},
   "outputs": [
    {
     "ename": "NameError",
     "evalue": "name 'D2xtr' is not defined",
     "output_type": "error",
     "traceback": [
      "\u001b[0;31m---------------------------------------------------------------------------\u001b[0m",
      "\u001b[0;31mNameError\u001b[0m                                 Traceback (most recent call last)",
      "\u001b[0;32m<ipython-input-5-98047595ec4e>\u001b[0m in \u001b[0;36m<module>\u001b[0;34m()\u001b[0m\n\u001b[1;32m     32\u001b[0m     \u001b[0mplt\u001b[0m\u001b[0;34m.\u001b[0m\u001b[0mshow\u001b[0m\u001b[0;34m(\u001b[0m\u001b[0;34m)\u001b[0m\u001b[0;34m\u001b[0m\u001b[0m\n\u001b[1;32m     33\u001b[0m \u001b[0;34m\u001b[0m\u001b[0m\n\u001b[0;32m---> 34\u001b[0;31m \u001b[0mStochasticGD\u001b[0m\u001b[0;34m(\u001b[0m\u001b[0mD2xtr\u001b[0m\u001b[0;34m,\u001b[0m\u001b[0mD2ytr\u001b[0m\u001b[0;34m,\u001b[0m\u001b[0mD2xtst\u001b[0m\u001b[0;34m,\u001b[0m\u001b[0mD2ytst\u001b[0m\u001b[0;34m,\u001b[0m\u001b[0;36m1e-3\u001b[0m\u001b[0;34m,\u001b[0m\u001b[0;36m0\u001b[0m\u001b[0;34m,\u001b[0m\u001b[0;36m10\u001b[0m\u001b[0;34m,\u001b[0m\u001b[0;36m100\u001b[0m\u001b[0;34m)\u001b[0m\u001b[0;34m\u001b[0m\u001b[0m\n\u001b[0m",
      "\u001b[0;31mNameError\u001b[0m: name 'D2xtr' is not defined"
     ]
    }
   ],
   "source": [
    "def SQLoss(x,y,B):                    #Root Mean Squared Loss (y-ŷ)²\n",
    "    Loss = (np.sum((y - x.dot(B))**2)/len(x))**0.5\n",
    "    return Loss\n",
    "\n",
    "def StochasticGD(x,y,x2,y2,mu,λa,epoch,i):     # mu-step size, λa Ridge,  i- batchsize\n",
    "    ErrTr = []                                  #To store the error on trial data\n",
    "    ErrTst = []\n",
    "    Btr = np.array([[1]]*len(x.T))              #Betas values Initialized to 1\n",
    "    for n in np.arange(epoch):                  #Number of times to run an epoch\n",
    "        xy= np.concatenate((x,y),axis=1)\n",
    "        L = np.random.shuffle(xy)\n",
    "        n= 0\n",
    "        for h in np.arange(len(xy)//i +1):\n",
    "            x = xy[:,0:-1]\n",
    "            y = np.array([xy[:,-1]]).T\n",
    "            xt= x[n*i:(n+1)*i]\n",
    "            yt= y[n*i:(n+1)*i]\n",
    "            n=n+1\n",
    "            Gd = xt.T.dot(yt -xt.dot(Btr))  #Gradient\n",
    "            Bn = (1-2*λa*mu)*Btr + mu*Gd    #Calculates the new value of Betas\n",
    "            Btr = Bn\n",
    "            ErTr = SQLoss(x,y,Bn)\n",
    "            ErTst = SQLoss(x2,y2,Bn)\n",
    "            ErrTr.append(ErTr)\n",
    "            ErrTst.append(ErTst)\n",
    "    plt.plot(ErrTr)                 \n",
    "    plt.plot(ErrTst)\n",
    "    plt.title(\"Stochastic Ridge GD - RMSE vs Iteration\")\n",
    "    plt.xlabel(\"Iteration\")    \n",
    "    plt.ylabel(\"RMSE\")\n",
    "    plt.legend([\"Training\",\"Test\"])\n",
    "    plt.show() \n",
    "    \n",
    "StochasticGD(D2xtr,D2ytr,D2xtst,D2ytst,1e-3,0,10,100)    "
   ]
  },
  {
   "cell_type": "code",
   "execution_count": 3,
   "metadata": {},
   "outputs": [
    {
     "ename": "NameError",
     "evalue": "name 'SGD' is not defined",
     "output_type": "error",
     "traceback": [
      "\u001b[0;31m---------------------------------------------------------------------------\u001b[0m",
      "\u001b[0;31mNameError\u001b[0m                                 Traceback (most recent call last)",
      "\u001b[0;32m<ipython-input-3-44e366e29568>\u001b[0m in \u001b[0;36m<module>\u001b[0;34m()\u001b[0m\n\u001b[1;32m      1\u001b[0m \u001b[0;31m# The coefficients\u001b[0m\u001b[0;34m\u001b[0m\u001b[0;34m\u001b[0m\u001b[0m\n\u001b[0;32m----> 2\u001b[0;31m \u001b[0mprint\u001b[0m\u001b[0;34m(\u001b[0m\u001b[0;34m\"Coefficients: \\n\"\u001b[0m\u001b[0;34m,\u001b[0m \u001b[0mSGD\u001b[0m\u001b[0;34m.\u001b[0m\u001b[0mcoef_\u001b[0m\u001b[0;34m)\u001b[0m\u001b[0;34m\u001b[0m\u001b[0m\n\u001b[0m\u001b[1;32m      3\u001b[0m \u001b[0mprint\u001b[0m\u001b[0;34m(\u001b[0m\u001b[0;34m\"\"\u001b[0m\u001b[0;34m)\u001b[0m\u001b[0;34m\u001b[0m\u001b[0m\n\u001b[1;32m      4\u001b[0m \u001b[0mD2predSGD\u001b[0m \u001b[0;34m=\u001b[0m \u001b[0mSGD\u001b[0m\u001b[0;34m.\u001b[0m\u001b[0mpredict\u001b[0m\u001b[0;34m(\u001b[0m\u001b[0mD2xtst\u001b[0m\u001b[0;34m)\u001b[0m\u001b[0;34m\u001b[0m\u001b[0m\n\u001b[1;32m      5\u001b[0m \u001b[0mplt\u001b[0m\u001b[0;34m.\u001b[0m\u001b[0mplot\u001b[0m\u001b[0;34m(\u001b[0m\u001b[0mD2ytst\u001b[0m\u001b[0;34m,\u001b[0m\u001b[0;34m'bo'\u001b[0m\u001b[0;34m,\u001b[0m\u001b[0mmarkersize\u001b[0m\u001b[0;34m=\u001b[0m\u001b[0;36m1\u001b[0m\u001b[0;34m)\u001b[0m\u001b[0;34m\u001b[0m\u001b[0m\n",
      "\u001b[0;31mNameError\u001b[0m: name 'SGD' is not defined"
     ]
    }
   ],
   "source": [
    "# The coefficients\n",
    "print(\"Coefficients: \\n\", SGD.coef_)\n",
    "print(\"\")\n",
    "D2predSGD = SGD.predict(D2xtst)\n",
    "plt.plot(D2ytst,'bo',markersize=1)\n",
    "plt.plot(D2predSGD,'ro',markersize=1)\n",
    "plt.show()\n",
    "print(\"Mean squared error: %.4f\" %mean_squared_error(D2ytst,D2predSGD))"
   ]
  },
  {
   "cell_type": "code",
   "execution_count": null,
   "metadata": {},
   "outputs": [],
   "source": [
    "def Soft(x,e):\n",
    "    if x>e:\n",
    "        value = x-e\n",
    "    else:\n",
    "        if abs(x)<=e:\n",
    "            value = 0\n",
    "        else:\n",
    "            if x<-1*e:\n",
    "                value = x+e\n",
    "    return value\n",
    "\n",
    "def Lasso(x,y,x2,y2,λ,epoch,i):                 #i- batchsize\n",
    "    ErrTr = []                                  #To store the error on trial data\n",
    "    ErrTst = []\n",
    "    Btr = np.array([[10.0]]*len(x.T))              #Betas values Initialized to 1\n",
    "    for n in np.arange(epoch):                  #Number of times to run an epoch\n",
    "        xy= np.concatenate((x,y),axis=1)\n",
    "        L = np.random.shuffle(xy)\n",
    "        n= 0\n",
    "        for h in np.arange(len(xy)//i +1):\n",
    "            x = xy[:,0:-1]\n",
    "            y = np.array([xy[:,-1]]).T\n",
    "            xt= x[n*i:(n+1)*i]\n",
    "            yt= y[n*i:(n+1)*i]\n",
    "            n=n+1\n",
    "            for b in np.arange(len(Btr)):\n",
    "                val    = float(xt[:,b].T.dot((yt - np.delete(xt,b,axis=1).dot(np.delete(Btr,b,axis=0))))/xt[:,b].T.dot(xt[:,b]))\n",
    "                e      = 0.5*λ/xt[:,b].T.dot(xt[:,b])\n",
    "                Btr[b] = Soft(val,e)\n",
    "        ErTr = SQLoss(x,y,Btr)\n",
    "        ErTst = SQLoss(x2,y2,Btr)\n",
    "        ErrTr.append(ErTr)\n",
    "        ErrTst.append(ErTst)\n",
    "    plt.plot(ErrTr)                 \n",
    "    plt.plot(ErrTst)\n",
    "    plt.title(\"Coordinate GD LASSO - RMSE vs Epoch\")\n",
    "    plt.xlabel(\"Epoch\")    \n",
    "    plt.ylabel(\"RMSE\")\n",
    "    plt.legend([\"Training\",\"Test\"])\n",
    "    plt.show() \n",
    "    return Btr\n",
    "\n",
    "Lasso(D2xtr,D2ytr,D2xtst,D2ytst,7,20,5)"
   ]
  }
 ],
 "metadata": {
  "kernelspec": {
   "display_name": "Python 3",
   "language": "python",
   "name": "python3"
  },
  "language_info": {
   "codemirror_mode": {
    "name": "ipython",
    "version": 3
   },
   "file_extension": ".py",
   "mimetype": "text/x-python",
   "name": "python",
   "nbconvert_exporter": "python",
   "pygments_lexer": "ipython3",
   "version": "3.6.5"
  }
 },
 "nbformat": 4,
 "nbformat_minor": 2
}
